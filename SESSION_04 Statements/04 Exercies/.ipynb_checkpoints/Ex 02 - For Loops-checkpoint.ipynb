{
 "cells": [
  {
   "cell_type": "markdown",
   "metadata": {},
   "source": [
    "# for Loops\n",
    "\n",
    "## Exercises\n",
    "\n",
    "General format for a **for** loop in Python:\n",
    "\n",
    "    for item in object:\n",
    "        statements to do stuff\n",
    "    "
   ]
  },
  {
   "cell_type": "markdown",
   "metadata": {},
   "source": [
    "1. Create a list from 1 to 6. Loop over the list and print every value"
   ]
  },
  {
   "cell_type": "code",
   "execution_count": 1,
   "metadata": {},
   "outputs": [
    {
     "name": "stdout",
     "output_type": "stream",
     "text": [
      "1\n",
      "2\n",
      "3\n",
      "4\n",
      "5\n",
      "6\n"
     ]
    }
   ],
   "source": [
    "# list\n",
    "lst = [1,2,3,4,5,6]\n",
    "\n",
    "# loop\n",
    "for num in lst:\n",
    "    print (num)"
   ]
  },
  {
   "cell_type": "markdown",
   "metadata": {},
   "source": [
    "2. Use the list you have created at point 1, loop over it and print the squared value of every element"
   ]
  },
  {
   "cell_type": "code",
   "execution_count": 24,
   "metadata": {},
   "outputs": [
    {
     "name": "stdout",
     "output_type": "stream",
     "text": [
      "1\n",
      "4\n",
      "9\n",
      "16\n",
      "25\n",
      "36\n"
     ]
    }
   ],
   "source": [
    "for num in lst:\n",
    "        print(num**2)"
   ]
  },
  {
   "cell_type": "markdown",
   "metadata": {},
   "source": [
    "3. Create a list of 4 strings, loop over the list and print the string together with his length.  \n",
    " * E.g: *string:length*\n",
    " \n",
    "**Mandatory:** One string length must be = 5 "
   ]
  },
  {
   "cell_type": "code",
   "execution_count": 30,
   "metadata": {},
   "outputs": [
    {
     "name": "stdout",
     "output_type": "stream",
     "text": [
      "5 honda\n",
      "5 tesla\n",
      "6 nissan\n",
      "7 ferrari\n"
     ]
    }
   ],
   "source": [
    "# list of strings\n",
    "cars = ['honda', 'tesla',  'nissan', 'ferrari']\n",
    "# loop\n",
    "for index in range(len(cars)):\n",
    "    print (len(cars[index]),cars[index])"
   ]
  },
  {
   "cell_type": "markdown",
   "metadata": {},
   "source": [
    "3. Use the list you have created at point 3. Loop over it and print whether the string is >5, <5 or equal to 5."
   ]
  },
  {
   "cell_type": "code",
   "execution_count": 38,
   "metadata": {},
   "outputs": [
    {
     "name": "stdout",
     "output_type": "stream",
     "text": [
      "String is less than 5 or equal to 5\n",
      "String is less than 5 or equal to 5\n",
      "String is less than 5 or equal to 5\n",
      "String is less than 5 or equal to 5\n",
      "String is less than 5 or equal to 5\n",
      "String is bigger than 5\n"
     ]
    }
   ],
   "source": [
    "for num in lst:\n",
    "    if num > 5:\n",
    "        print (\"String is bigger than 5\")\n",
    "    elif num < 5 or num == 5:\n",
    "        print (\"String is less than 5 or equal to 5\")\n",
    "    "
   ]
  },
  {
   "cell_type": "markdown",
   "metadata": {},
   "source": [
    "## Iterating by sequence index\n",
    "\n",
    "4. Use the following list. Loop over it and print every element using the \"indexing\" method. The output should be:\n",
    " * *The animal is: animal name*"
   ]
  },
  {
   "cell_type": "code",
   "execution_count": 39,
   "metadata": {},
   "outputs": [
    {
     "name": "stdout",
     "output_type": "stream",
     "text": [
      "The animal is : cat\n",
      "The animal is : dog\n",
      "The animal is : cow\n",
      "The animal is : horse\n",
      "The animal is : goat\n"
     ]
    }
   ],
   "source": [
    "animals = ['cat', 'dog',  'cow', 'horse','goat']\n",
    "\n",
    "# loop\n",
    "for index in range(len(animals)):\n",
    "    print ('The animal is :', animals[index])"
   ]
  },
  {
   "cell_type": "markdown",
   "metadata": {},
   "source": [
    "\n",
    "### Modulo\n",
    "The modulo allows us to get the remainder in a division and uses the % symbol.\n",
    "\n",
    "5. Craete a list in range from 1 to 12, loop over it and print out whether a number is equal or odd."
   ]
  },
  {
   "cell_type": "code",
   "execution_count": 41,
   "metadata": {},
   "outputs": [
    {
     "name": "stdout",
     "output_type": "stream",
     "text": [
      "1 is impar\n",
      "2 is par\n",
      "3 is impar\n",
      "4 is par\n",
      "5 is impar\n",
      "6 is par\n",
      "7 is impar\n",
      "8 is par\n",
      "9 is impar\n",
      "10 is par\n",
      "11 is impar\n",
      "12 is par\n"
     ]
    }
   ],
   "source": [
    "# list\n",
    "lst = [1,2,3,4,5,6,7,8,9,10,11,12]\n",
    "# loop\n",
    "for num in lst:\n",
    "    if num % 2 == 0:\n",
    "        print ('{} is par'.format(num))\n",
    "    else:\n",
    "        print ('{} is impar'.format(num))"
   ]
  },
  {
   "cell_type": "markdown",
   "metadata": {},
   "source": [
    "6. Use the list below, loop over it and print out the sum of every number. Remember, use a counter outside the loop."
   ]
  },
  {
   "cell_type": "code",
   "execution_count": 43,
   "metadata": {},
   "outputs": [
    {
     "name": "stdout",
     "output_type": "stream",
     "text": [
      "150\n"
     ]
    }
   ],
   "source": [
    "# list\n",
    "w = [10,20,30,40,50]\n",
    "\n",
    "# counter\n",
    "count = 0 \n",
    "\n",
    "# loop\n",
    "for el in w:\n",
    "    count = count + el\n",
    "\n",
    "print (count)"
   ]
  },
  {
   "cell_type": "markdown",
   "metadata": {},
   "source": [
    "7. Use the two lists below, loop throug both of them and print out whether the sum of the couple of variable is odd or equal."
   ]
  },
  {
   "cell_type": "code",
   "execution_count": 84,
   "metadata": {},
   "outputs": [
    {
     "name": "stdout",
     "output_type": "stream",
     "text": [
      "2 is even\n",
      "3 is even\n",
      "4 is even\n",
      "5 is even\n",
      "3 is even\n",
      "4 is even\n",
      "5 is even\n",
      "6 is even\n",
      "4 is even\n",
      "5 is even\n",
      "6 is even\n",
      "7 is even\n",
      "5 is even\n",
      "6 is even\n",
      "7 is even\n",
      "8 is even\n"
     ]
    }
   ],
   "source": [
    "# lists\n",
    "w = [1,2,3,4]\n",
    "z = [1,2,3,4]\n",
    "\n",
    "for el1 in w:\n",
    "    for el2 in z:\n",
    "        sum_= el1 + el2\n",
    "        if c % 2 == 0:\n",
    "            print ('{} is even'.format(sum_))\n",
    "        else:\n",
    "            print ('{} is odd'.format(sum_))\n"
   ]
  },
  {
   "cell_type": "markdown",
   "metadata": {},
   "source": [
    "8. Use the list of tuple below, loop over it and print every single tuple."
   ]
  },
  {
   "cell_type": "code",
   "execution_count": 85,
   "metadata": {},
   "outputs": [
    {
     "name": "stdout",
     "output_type": "stream",
     "text": [
      "(5, 4)\n",
      "(4, 7)\n",
      "(8, 10)\n"
     ]
    }
   ],
   "source": [
    "# tuple list\n",
    "t_list = [(5,4),(4,7),(8,10)]\n",
    "\n",
    "# loop\n",
    "for el in t_list:\n",
    "    print (el)"
   ]
  },
  {
   "cell_type": "markdown",
   "metadata": {},
   "source": [
    "9. Loop over the list below and print the sum of the **first + second + third** element of every tuple. **Hint:** Tuple unpacking"
   ]
  },
  {
   "cell_type": "code",
   "execution_count": 12,
   "metadata": {},
   "outputs": [],
   "source": [
    "# loop\n"
   ]
  },
  {
   "cell_type": "markdown",
   "metadata": {},
   "source": [
    "10. Loop over the dictionary below and print both key and value "
   ]
  },
  {
   "cell_type": "code",
   "execution_count": 29,
   "metadata": {},
   "outputs": [],
   "source": [
    "dz = {'key1':88,'key2':23,'key3':72, 'key4':66}"
   ]
  },
  {
   "cell_type": "code",
   "execution_count": 13,
   "metadata": {},
   "outputs": [],
   "source": [
    "# dict loop\n"
   ]
  },
  {
   "cell_type": "markdown",
   "metadata": {},
   "source": [
    "11. Loop the **dz** dictionary and print out only the values."
   ]
  },
  {
   "cell_type": "code",
   "execution_count": 14,
   "metadata": {},
   "outputs": [],
   "source": [
    "# loop\n"
   ]
  },
  {
   "cell_type": "markdown",
   "metadata": {},
   "source": [
    "11. Use the **dz** dictionary and the **t_list**. Loop throug both of them and print out the sum of every value of the dictionary with the first element of the tuple."
   ]
  },
  {
   "cell_type": "code",
   "execution_count": 16,
   "metadata": {},
   "outputs": [],
   "source": [
    "dz = {'key1':88,'key2':23,'key3':72, 'key4':66}\n",
    "t_list = [(5,4),(4,7),(8,10)]"
   ]
  },
  {
   "cell_type": "code",
   "execution_count": 18,
   "metadata": {},
   "outputs": [],
   "source": [
    "# loop\n"
   ]
  },
  {
   "cell_type": "markdown",
   "metadata": {},
   "source": [
    "# Congratulation! You did a nice work!"
   ]
  },
  {
   "cell_type": "code",
   "execution_count": null,
   "metadata": {},
   "outputs": [],
   "source": []
  }
 ],
 "metadata": {
  "kernelspec": {
   "display_name": "Python 3",
   "language": "python",
   "name": "python3"
  },
  "language_info": {
   "codemirror_mode": {
    "name": "ipython",
    "version": 3
   },
   "file_extension": ".py",
   "mimetype": "text/x-python",
   "name": "python",
   "nbconvert_exporter": "python",
   "pygments_lexer": "ipython3",
   "version": "3.7.1"
  }
 },
 "nbformat": 4,
 "nbformat_minor": 1
}
