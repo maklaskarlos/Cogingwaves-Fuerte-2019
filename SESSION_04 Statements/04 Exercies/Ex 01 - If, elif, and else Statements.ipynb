{
 "cells": [
  {
   "cell_type": "markdown",
   "metadata": {},
   "source": [
    "# if,elif,else Statements\n",
    "\n",
    "\n",
    "## Exercises\n",
    "\n",
    "Use the basic syntax format for the **if, elif, else**:\n",
    "\n",
    "    if condition1:\n",
    "        perform action1\n",
    "    elif condition2:\n",
    "        perform action2\n",
    "    else: \n",
    "        perform action 3"
   ]
  },
  {
   "cell_type": "markdown",
   "metadata": {},
   "source": [
    "1. Use the if statement and compare two numbers. If the condition is true print \"Condition True\" otherwise print \"Condition Fale\""
   ]
  },
  {
   "cell_type": "code",
   "execution_count": 2,
   "metadata": {},
   "outputs": [
    {
     "name": "stdout",
     "output_type": "stream",
     "text": [
      "Condition True\n"
     ]
    }
   ],
   "source": [
    "if 2==2:\n",
    "    print(\"Condition True\")"
   ]
  },
  {
   "cell_type": "markdown",
   "metadata": {},
   "source": [
    "2. Use the code belowe and print out if the number is positive or negative"
   ]
  },
  {
   "cell_type": "code",
   "execution_count": 6,
   "metadata": {},
   "outputs": [
    {
     "name": "stdout",
     "output_type": "stream",
     "text": [
      "Is Negative!\n"
     ]
    }
   ],
   "source": [
    "import numpy as np\n",
    "number = np.random.randn()\n",
    "number\n",
    "\n",
    "# Insert here your if, elif, else statement\n",
    "if number > 0:\n",
    "    print(\"Is Positive!\")\n",
    "\n",
    "elif number < 0:\n",
    "    print(\"Is Negative!\")\n",
    "    \n",
    "else:\n",
    "    print(\"Is Zero\")"
   ]
  },
  {
   "cell_type": "markdown",
   "metadata": {},
   "source": [
    "3. Use the code belowe and print out if the number generated is >1, <-1 or -1<number<1"
   ]
  },
  {
   "cell_type": "code",
   "execution_count": 14,
   "metadata": {},
   "outputs": [
    {
     "name": "stdout",
     "output_type": "stream",
     "text": [
      "0.45688267493102286\n"
     ]
    }
   ],
   "source": [
    "import numpy as np\n",
    "number = np.random.randn()\n",
    "number\n",
    "\n",
    "# Insert here your if, elif, else statement\n",
    "if number > 1 and number < -1:\n",
    "    print('Number between 1 and -1')\n",
    "\n",
    "elif number < -1 and number < 1:\n",
    "    print(\"Number is between -1 and 1\")\n",
    "\n",
    "else:\n",
    "    print(number)"
   ]
  },
  {
   "cell_type": "code",
   "execution_count": null,
   "metadata": {},
   "outputs": [],
   "source": []
  },
  {
   "cell_type": "markdown",
   "metadata": {
    "collapsed": true
   },
   "source": [
    "## Nice Job!"
   ]
  },
  {
   "cell_type": "code",
   "execution_count": null,
   "metadata": {},
   "outputs": [],
   "source": []
  }
 ],
 "metadata": {
  "kernelspec": {
   "display_name": "Python 3",
   "language": "python",
   "name": "python3"
  },
  "language_info": {
   "codemirror_mode": {
    "name": "ipython",
    "version": 3
   },
   "file_extension": ".py",
   "mimetype": "text/x-python",
   "name": "python",
   "nbconvert_exporter": "python",
   "pygments_lexer": "ipython3",
   "version": "3.7.1"
  }
 },
 "nbformat": 4,
 "nbformat_minor": 1
}
