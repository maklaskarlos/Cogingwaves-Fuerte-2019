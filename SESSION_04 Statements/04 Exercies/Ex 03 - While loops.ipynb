{
 "cells": [
  {
   "cell_type": "markdown",
   "metadata": {
    "collapsed": true
   },
   "source": [
    "# while loops\n",
    "\n",
    "## Exercises\n",
    "Keep in mind the general format of a while loop:\n",
    "\n",
    "    while test:\n",
    "        code statement\n",
    "    else:\n",
    "        final code statements "
   ]
  },
  {
   "cell_type": "markdown",
   "metadata": {},
   "source": [
    "1. Write a simple while loop that prints all numbers from 0 to 8. The loop must stop when the condition == 8. When you print out the results try to use \"string formatting\"."
   ]
  },
  {
   "cell_type": "code",
   "execution_count": 6,
   "metadata": {},
   "outputs": [
    {
     "name": "stdout",
     "output_type": "stream",
     "text": [
      "Current variable value : 1\n",
      "Current variable value : 2\n",
      "Current variable value : 3\n",
      "Current variable value : 4\n",
      "Current variable value : 5\n",
      "Current variable value : 6\n",
      "Current variable value : 7\n",
      "Current variable value : 8\n",
      "Good bye!\n"
     ]
    }
   ],
   "source": [
    "# counter\n",
    "x = 0\n",
    "\n",
    "# while loop\n",
    "while x < 8:\n",
    "    x += 1\n",
    "    print ('Current variable value :', x)\n",
    "    \n",
    "print (\"Good bye!\")"
   ]
  },
  {
   "cell_type": "markdown",
   "metadata": {},
   "source": [
    "2. Write a python while loop that prints all the numbers incremented by two unit. The sequence should be 2,4,6,8,10."
   ]
  },
  {
   "cell_type": "code",
   "execution_count": 7,
   "metadata": {},
   "outputs": [
    {
     "name": "stdout",
     "output_type": "stream",
     "text": [
      "Current variable value : 2\n",
      "Current variable value : 4\n",
      "Current variable value : 6\n",
      "Current variable value : 8\n",
      "Good bye!\n"
     ]
    }
   ],
   "source": [
    "# counter \n",
    "x = 0\n",
    "\n",
    "\n",
    "# while loop\n",
    "while x < 8:\n",
    "    x += 2\n",
    "    print ('Current variable value :', x)\n",
    "    \n",
    "print (\"Good bye!\")"
   ]
  },
  {
   "cell_type": "markdown",
   "metadata": {},
   "source": [
    "3. Write a while loop that prints out all even numbers from 77 to 103. Save all the odd numbers into a list, print the list at the end."
   ]
  },
  {
   "cell_type": "code",
   "execution_count": 19,
   "metadata": {},
   "outputs": [
    {
     "name": "stdout",
     "output_type": "stream",
     "text": [
      "78\n",
      "80\n",
      "82\n",
      "84\n",
      "86\n",
      "88\n",
      "90\n",
      "92\n",
      "94\n",
      "96\n",
      "98\n",
      "100\n",
      "102\n"
     ]
    },
    {
     "data": {
      "text/plain": [
       "[77, 79, 81, 83, 85, 87, 89, 91, 93, 95, 97, 99, 101, 103]"
      ]
     },
     "execution_count": 19,
     "metadata": {},
     "output_type": "execute_result"
    }
   ],
   "source": [
    "# list\n",
    "lst_empty=[]\n",
    "\n",
    "# counter\n",
    "x=77\n",
    "\n",
    "# while loop\n",
    "\n",
    "while x < 104:\n",
    "    if x%2 ==0:\n",
    "        print(x)\n",
    "    else:\n",
    "        lst_empty.append(x)\n",
    "    x+=1\n",
    "# print list\n",
    "lst_empty"
   ]
  },
  {
   "cell_type": "markdown",
   "metadata": {},
   "source": [
    "4. Write a while loop that prints out all numbers **NOT** divisible by 2 and 10 at the same time in the range from 77 to 103. Save the numbers divisible by 2 and 10 into a list."
   ]
  },
  {
   "cell_type": "code",
   "execution_count": 20,
   "metadata": {},
   "outputs": [
    {
     "name": "stdout",
     "output_type": "stream",
     "text": [
      "80\n",
      "90\n",
      "100\n"
     ]
    },
    {
     "data": {
      "text/plain": [
       "[77,\n",
       " 78,\n",
       " 79,\n",
       " 81,\n",
       " 82,\n",
       " 83,\n",
       " 84,\n",
       " 85,\n",
       " 86,\n",
       " 87,\n",
       " 88,\n",
       " 89,\n",
       " 91,\n",
       " 92,\n",
       " 93,\n",
       " 94,\n",
       " 95,\n",
       " 96,\n",
       " 97,\n",
       " 98,\n",
       " 99,\n",
       " 101,\n",
       " 102,\n",
       " 103]"
      ]
     },
     "execution_count": 20,
     "metadata": {},
     "output_type": "execute_result"
    }
   ],
   "source": [
    "# list\n",
    "lst_empty=[]\n",
    "\n",
    "# counter\n",
    "x=77\n",
    "\n",
    "# while loop\n",
    "\n",
    "while x < 104:\n",
    "    if (x%2 ==0) and (x%10 ==0):\n",
    "        print(x)\n",
    "    else:\n",
    "        lst_empty.append(x)\n",
    "    x+=1\n",
    "# print list\n",
    "lst_empty"
   ]
  },
  {
   "cell_type": "markdown",
   "metadata": {},
   "source": [
    "5. Write a while loop that goes from 10 to 25. Print out every number, if a number is multiple of 9 break the loop, otherwise continue. "
   ]
  },
  {
   "cell_type": "code",
   "execution_count": 23,
   "metadata": {},
   "outputs": [
    {
     "name": "stdout",
     "output_type": "stream",
     "text": [
      "10\n",
      "11\n",
      "12\n",
      "13\n",
      "14\n",
      "15\n",
      "16\n",
      "17\n"
     ]
    }
   ],
   "source": [
    "# counter\n",
    "x=10\n",
    "\n",
    "# while loop\n",
    "while x < 25:\n",
    "    if x %9 ==0:\n",
    "        break\n",
    "    else:\n",
    "        print (x)\n",
    "    x += 1\n",
    "\n"
   ]
  },
  {
   "cell_type": "markdown",
   "metadata": {},
   "source": [
    "6. Use the list below. Write a while loop that prints out whether a number is inside the list or not. **Hint:** Use the min() max() buit-in method to find the min max value inside the list value of the list. E.g *min(list)*"
   ]
  },
  {
   "cell_type": "code",
   "execution_count": 28,
   "metadata": {},
   "outputs": [
    {
     "name": "stdout",
     "output_type": "stream",
     "text": [
      "6\n",
      "12\n",
      "22\n",
      "54\n",
      "65\n",
      "90\n"
     ]
    }
   ],
   "source": [
    "# list\n",
    "lst = [22,65,6,90,54,12]\n",
    "counter = min(lst)\n",
    "counter\n",
    "# counter\n",
    "while counter <= max(lst):\n",
    "    if counter in lst:\n",
    "        print(counter)\n",
    "    counter+=1  \n",
    "\n",
    "# while loop\n",
    "\n"
   ]
  },
  {
   "cell_type": "markdown",
   "metadata": {
    "collapsed": true
   },
   "source": [
    "# Nice Job! "
   ]
  },
  {
   "cell_type": "code",
   "execution_count": null,
   "metadata": {},
   "outputs": [],
   "source": []
  },
  {
   "cell_type": "code",
   "execution_count": null,
   "metadata": {},
   "outputs": [],
   "source": []
  }
 ],
 "metadata": {
  "kernelspec": {
   "display_name": "Python 3",
   "language": "python",
   "name": "python3"
  },
  "language_info": {
   "codemirror_mode": {
    "name": "ipython",
    "version": 3
   },
   "file_extension": ".py",
   "mimetype": "text/x-python",
   "name": "python",
   "nbconvert_exporter": "python",
   "pygments_lexer": "ipython3",
   "version": "3.7.1"
  }
 },
 "nbformat": 4,
 "nbformat_minor": 1
}
