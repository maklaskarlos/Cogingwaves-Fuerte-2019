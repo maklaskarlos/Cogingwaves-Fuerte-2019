{
 "cells": [
  {
   "cell_type": "markdown",
   "metadata": {},
   "source": [
    "# Assessment Test"
   ]
  },
  {
   "cell_type": "markdown",
   "metadata": {},
   "source": [
    "### This is the assessment test of our first part of the course.\n",
    "\n",
    "Here we are going to check your capabilities on managing and using the basic programming concepts we have studied so far:\n",
    "\n",
    " * Objects and Data Structure\n",
    " * Comparison Operators\n",
    " * Statements\n",
    " * Method and Functions"
   ]
  },
  {
   "cell_type": "markdown",
   "metadata": {},
   "source": [
    "## Objects and Data Structures"
   ]
  },
  {
   "cell_type": "markdown",
   "metadata": {},
   "source": [
    "1. Use the string below:\n",
    " * Print the first letter of the string.\n",
    " * Print the @\n",
    " * Print the sequence \"fuerteventura\"\n",
    " * Split the string on @\n",
    "    "
   ]
  },
  {
   "cell_type": "code",
   "execution_count": 2,
   "metadata": {},
   "outputs": [],
   "source": [
    "my_string = \"fuerteventura@2019\""
   ]
  },
  {
   "cell_type": "code",
   "execution_count": 19,
   "metadata": {},
   "outputs": [
    {
     "name": "stdout",
     "output_type": "stream",
     "text": [
      "f\n",
      "@\n",
      "@\n",
      "fuerteventura\n"
     ]
    },
    {
     "data": {
      "text/plain": [
       "['fuerteventura', '2019']"
      ]
     },
     "execution_count": 19,
     "metadata": {},
     "output_type": "execute_result"
    }
   ],
   "source": [
    "print(my_string[0])\n",
    "print(my_string[len(\"fuerteventura\")]) # same as doing my_string[13]\n",
    "print(my_string [-5])\n",
    "print(my_string[0:-5])\n",
    "my_string.split(\"@\")"
   ]
  },
  {
   "cell_type": "markdown",
   "metadata": {},
   "source": [
    "2. Use the list below:\n",
    " * Print the second element of the list\n",
    " * Print the last element of the list\n",
    " * Print the sequence from the 4th to the 5th element\n",
    " * Print the second element of the sublist\n",
    " * Append the word \"Python\"\n",
    " * Pop out the sublist"
   ]
  },
  {
   "cell_type": "code",
   "execution_count": 39,
   "metadata": {},
   "outputs": [
    {
     "name": "stdout",
     "output_type": "stream",
     "text": [
      "2\n",
      "99\n",
      "[4, 5]\n",
      "5\n"
     ]
    },
    {
     "data": {
      "text/plain": [
       "[2, 3, 4, 5]"
      ]
     },
     "execution_count": 39,
     "metadata": {},
     "output_type": "execute_result"
    }
   ],
   "source": [
    "lst = [1,2,3,4,5,6,7,8,9,10,[2,3,4,5],66,99]\n",
    "\n",
    "print(lst[1])\n",
    "print(lst[-1]) #print(len(lst)-1)\n",
    "print(lst[3:5])\n",
    "print(lst[3:5][1])\n",
    "lst.append(\"Python\")\n",
    "\n",
    "lst.pop(-4)"
   ]
  },
  {
   "cell_type": "markdown",
   "metadata": {},
   "source": [
    "3. Use the dictionary below:\n",
    " * Print all the keys\n",
    " * Print all the values\n",
    " * Print all the items\n",
    " * Print the value of \"motorbike\"\n",
    " * Print the value of \"dog\"\n",
    " * Calculate the differnce between the value of \"bike\" and the value of \"cat\""
   ]
  },
  {
   "cell_type": "code",
   "execution_count": 45,
   "metadata": {},
   "outputs": [],
   "source": [
    "myDict= {'car': 100, 'bike':200, 'motorbike':300, 'pets':{'dog':100, 'cat':50, 'rabbit':200}}"
   ]
  },
  {
   "cell_type": "code",
   "execution_count": 55,
   "metadata": {},
   "outputs": [
    {
     "name": "stdout",
     "output_type": "stream",
     "text": [
      "dict_keys(['car', 'bike', 'motorbike', 'pets'])\n",
      "dict_values([100, 200, 300, {'dog': 100, 'cat': 50, 'rabbit': 200}])\n",
      "dict_items([('car', 100), ('bike', 200), ('motorbike', 300), ('pets', {'dog': 100, 'cat': 50, 'rabbit': 200})])\n",
      "300\n",
      "100\n",
      "150\n"
     ]
    }
   ],
   "source": [
    "print(myDict.keys())\n",
    "print(myDict.values())\n",
    "print(myDict.items())\n",
    "print(myDict[\"motorbike\"])\n",
    "print(myDict[\"pets\"][\"dog\"])\n",
    "print(myDict[\"bike\"]-myDict[\"pets\"][\"cat\"])"
   ]
  },
  {
   "cell_type": "markdown",
   "metadata": {},
   "source": [
    "4. Use the tuple below:\n",
    " * Print the third element of the tuple\n",
    " * Get the index of number 12\n",
    " * Count how many times 30 is inside the tuple"
   ]
  },
  {
   "cell_type": "code",
   "execution_count": 59,
   "metadata": {},
   "outputs": [],
   "source": [
    "t = (80, 30, 30, 12, 80, 40)"
   ]
  },
  {
   "cell_type": "code",
   "execution_count": 67,
   "metadata": {},
   "outputs": [
    {
     "name": "stdout",
     "output_type": "stream",
     "text": [
      "12\n",
      "3\n",
      "2\n"
     ]
    }
   ],
   "source": [
    "print(t[3])\n",
    "print(t.index(12))\n",
    "print(t.count(30))"
   ]
  },
  {
   "cell_type": "markdown",
   "metadata": {},
   "source": [
    "5. In this directory there is a file named \"Assessment.txt\". Use the **with** method and:\n",
    " * Open the .txt file and read what's is written inside\n",
    " * Open again the \"Assessment.txt\" file and write inside your name. Hint: use the \"append\" argumnet\n",
    " * Write a new file and call it \"Assessment2.txt\", write inside somenthing you like."
   ]
  },
  {
   "cell_type": "code",
   "execution_count": 153,
   "metadata": {},
   "outputs": [],
   "source": [
    "%pwd\n",
    "my_file = open('Assessment.txt')\n",
    "my_file.read()\n",
    "with open('Assessment.txt', mode='a') as fw:\n",
    "    fw.write('\\n Karlos')"
   ]
  },
  {
   "cell_type": "code",
   "execution_count": 155,
   "metadata": {},
   "outputs": [
    {
     "name": "stdout",
     "output_type": "stream",
     "text": [
      "Welcome to fuerteventura!\n",
      "\n",
      " Karlos\n",
      " Karlos\n",
      " Karlos\n",
      " Karlos\n",
      " Karlos\n",
      " Karlos\n",
      " Karlos\n",
      " Karlos\n",
      " Karlos\n",
      " Karlos\n"
     ]
    }
   ],
   "source": [
    "with open (\"Assessment.txt\", mode=\"r\") as fr:\n",
    "    content = fr.read()\n",
    "    print(content)"
   ]
  },
  {
   "cell_type": "code",
   "execution_count": null,
   "metadata": {},
   "outputs": [],
   "source": [
    "my_file.read()\n",
    "\n",
    "with open('Assessment2.txt', mode='w') as fw:\n",
    "    fw.write('Karlos Assessment2')"
   ]
  },
  {
   "cell_type": "code",
   "execution_count": 156,
   "metadata": {},
   "outputs": [
    {
     "name": "stdout",
     "output_type": "stream",
     "text": [
      "Karlos Assessment2\n"
     ]
    }
   ],
   "source": [
    "with open (\"Assessment2.txt\", mode=\"r\") as fr:\n",
    "    content = fr.read()\n",
    "    print(content)"
   ]
  },
  {
   "cell_type": "markdown",
   "metadata": {},
   "source": [
    "## Booleans"
   ]
  },
  {
   "cell_type": "code",
   "execution_count": 78,
   "metadata": {},
   "outputs": [
    {
     "data": {
      "text/plain": [
       "False"
      ]
     },
     "execution_count": 78,
     "metadata": {},
     "output_type": "execute_result"
    }
   ],
   "source": [
    "# Answer before running cell\n",
    "2 > 3"
   ]
  },
  {
   "cell_type": "code",
   "execution_count": 79,
   "metadata": {},
   "outputs": [
    {
     "data": {
      "text/plain": [
       "False"
      ]
     },
     "execution_count": 79,
     "metadata": {},
     "output_type": "execute_result"
    }
   ],
   "source": [
    "# Answer before running cell\n",
    "3 <= 2"
   ]
  },
  {
   "cell_type": "code",
   "execution_count": 80,
   "metadata": {},
   "outputs": [
    {
     "data": {
      "text/plain": [
       "False"
      ]
     },
     "execution_count": 80,
     "metadata": {},
     "output_type": "execute_result"
    }
   ],
   "source": [
    "# Answer before running cell\n",
    "3 == 2.0"
   ]
  },
  {
   "cell_type": "code",
   "execution_count": 81,
   "metadata": {},
   "outputs": [
    {
     "data": {
      "text/plain": [
       "True"
      ]
     },
     "execution_count": 81,
     "metadata": {},
     "output_type": "execute_result"
    }
   ],
   "source": [
    "# Answer before running cell\n",
    "3.0 == 3"
   ]
  },
  {
   "cell_type": "code",
   "execution_count": 82,
   "metadata": {},
   "outputs": [
    {
     "data": {
      "text/plain": [
       "False"
      ]
     },
     "execution_count": 82,
     "metadata": {},
     "output_type": "execute_result"
    }
   ],
   "source": [
    "# Answer before running cell\n",
    "4**0.5 != 2"
   ]
  },
  {
   "cell_type": "code",
   "execution_count": 83,
   "metadata": {},
   "outputs": [
    {
     "data": {
      "text/plain": [
       "False"
      ]
     },
     "execution_count": 83,
     "metadata": {},
     "output_type": "execute_result"
    }
   ],
   "source": [
    "# two nested lists\n",
    "l_one = [1,2,[3,4]]\n",
    "l_two = [1,2,{'k1':4}]\n",
    "\n",
    "#True or False?\n",
    "l_one[2][0] >= l_two[2]['k1']"
   ]
  },
  {
   "cell_type": "markdown",
   "metadata": {},
   "source": [
    "## Comparison Operators"
   ]
  },
  {
   "cell_type": "code",
   "execution_count": 84,
   "metadata": {},
   "outputs": [
    {
     "data": {
      "text/plain": [
       "False"
      ]
     },
     "execution_count": 84,
     "metadata": {},
     "output_type": "execute_result"
    }
   ],
   "source": [
    "# answer before you run the code\n",
    "12<5 and 6<2"
   ]
  },
  {
   "cell_type": "code",
   "execution_count": 85,
   "metadata": {},
   "outputs": [
    {
     "data": {
      "text/plain": [
       "True"
      ]
     },
     "execution_count": 85,
     "metadata": {},
     "output_type": "execute_result"
    }
   ],
   "source": [
    "# answer before you run the code\n",
    "3 < 8 < 9"
   ]
  },
  {
   "cell_type": "code",
   "execution_count": 86,
   "metadata": {},
   "outputs": [
    {
     "data": {
      "text/plain": [
       "True"
      ]
     },
     "execution_count": 86,
     "metadata": {},
     "output_type": "execute_result"
    }
   ],
   "source": [
    "# answer before you run the code\n",
    "3<9 and 12<30"
   ]
  },
  {
   "cell_type": "code",
   "execution_count": 87,
   "metadata": {},
   "outputs": [
    {
     "data": {
      "text/plain": [
       "False"
      ]
     },
     "execution_count": 87,
     "metadata": {},
     "output_type": "execute_result"
    }
   ],
   "source": [
    "# answer before you run the code \n",
    "8>2 and 4>10"
   ]
  },
  {
   "cell_type": "code",
   "execution_count": 88,
   "metadata": {},
   "outputs": [
    {
     "data": {
      "text/plain": [
       "False"
      ]
     },
     "execution_count": 88,
     "metadata": {},
     "output_type": "execute_result"
    }
   ],
   "source": [
    "# answer before you run the code \n",
    "3<4 and 'hello' == 'hellos'"
   ]
  },
  {
   "cell_type": "markdown",
   "metadata": {},
   "source": [
    "## Statements"
   ]
  },
  {
   "cell_type": "markdown",
   "metadata": {},
   "source": [
    "6. Use the code belowe and print out if the number generated is >1, <1 or -1<number<1"
   ]
  },
  {
   "cell_type": "code",
   "execution_count": 89,
   "metadata": {},
   "outputs": [
    {
     "name": "stdout",
     "output_type": "stream",
     "text": [
      "-0.2733103671521538\n"
     ]
    }
   ],
   "source": [
    "import numpy as np\n",
    "number = np.random.randn()\n",
    "number\n",
    "\n",
    "# Insert here your if, elif, else statement\n",
    "if number > 1 and number < -1:\n",
    "    print('Number between 1 and -1')\n",
    "\n",
    "elif number < -1 and number < 1:\n",
    "    print(\"Number is between -1 and 1\")\n",
    "\n",
    "else:\n",
    "    print(number)"
   ]
  },
  {
   "cell_type": "markdown",
   "metadata": {},
   "source": [
    "## for Loop"
   ]
  },
  {
   "cell_type": "markdown",
   "metadata": {},
   "source": [
    "7. Use the list below and loop over it with the **for** method:\n",
    " * Print only the odds numbers\n",
    " * Print only the even numbers\n",
    " * Print the sum of all the numbers\n",
    " * Print only the unique numbers\n",
    " \n",
    "    "
   ]
  },
  {
   "cell_type": "code",
   "execution_count": 162,
   "metadata": {},
   "outputs": [],
   "source": [
    "lst = [3,5,68,3,4,19,18,5,4]"
   ]
  },
  {
   "cell_type": "code",
   "execution_count": 163,
   "metadata": {},
   "outputs": [
    {
     "name": "stdout",
     "output_type": "stream",
     "text": [
      "68\n",
      "4\n",
      "18\n",
      "4\n"
     ]
    }
   ],
   "source": [
    "for num in lst:\n",
    "    if num %2 ==0:\n",
    "        print(num)"
   ]
  },
  {
   "cell_type": "code",
   "execution_count": 164,
   "metadata": {},
   "outputs": [
    {
     "name": "stdout",
     "output_type": "stream",
     "text": [
      "3\n",
      "5\n",
      "68\n",
      "3\n",
      "4\n",
      "19\n",
      "18\n",
      "5\n",
      "4\n"
     ]
    }
   ],
   "source": [
    "odds= []\n",
    "even = [num for num in lst if num not in odds]\n",
    "\n",
    "for num in even:\n",
    "    print (num)"
   ]
  },
  {
   "cell_type": "code",
   "execution_count": 99,
   "metadata": {},
   "outputs": [
    {
     "name": "stdout",
     "output_type": "stream",
     "text": [
      "129\n"
     ]
    }
   ],
   "source": [
    "count = 0 \n",
    "for el in lst:\n",
    "    count= count +el\n",
    "\n",
    "print (count)"
   ]
  },
  {
   "cell_type": "code",
   "execution_count": 165,
   "metadata": {},
   "outputs": [
    {
     "name": "stdout",
     "output_type": "stream",
     "text": [
      "the unique numbers in the list are {3, 4, 68, 5, 18, 19}\n"
     ]
    }
   ],
   "source": [
    "print(\"the unique numbers in the list are {}\". format(set(lst)))"
   ]
  },
  {
   "cell_type": "markdown",
   "metadata": {},
   "source": [
    "8. Use the dictionary below and print only the values:"
   ]
  },
  {
   "cell_type": "code",
   "execution_count": 166,
   "metadata": {},
   "outputs": [],
   "source": [
    "myDict= {'car': 100, 'bike':200, 'motorbike':300, 'pets':{'dog':100, 'cat':50, 'rabbit':200}}"
   ]
  },
  {
   "cell_type": "code",
   "execution_count": 172,
   "metadata": {},
   "outputs": [
    {
     "name": "stdout",
     "output_type": "stream",
     "text": [
      "dict_values([100, 200, 300, {'dog': 100, 'cat': 50, 'rabbit': 200}])\n",
      "100\n",
      "200\n",
      "300\n",
      "{'dog': 100, 'cat': 50, 'rabbit': 200}\n"
     ]
    }
   ],
   "source": [
    "print(myDict.values())\n",
    "\n",
    "for value in values:\n",
    "    print(value)"
   ]
  },
  {
   "cell_type": "markdown",
   "metadata": {},
   "source": [
    "## while Loop"
   ]
  },
  {
   "cell_type": "markdown",
   "metadata": {},
   "source": [
    "9. Write a simple while loop that prints all numbers from 10 to 20. The loop must stop when the condition == 20. When you print out the results try to use \"string formatting\"."
   ]
  },
  {
   "cell_type": "code",
   "execution_count": 173,
   "metadata": {},
   "outputs": [
    {
     "name": "stdout",
     "output_type": "stream",
     "text": [
      "11\n",
      "12\n",
      "13\n",
      "14\n",
      "15\n",
      "16\n",
      "17\n",
      "18\n",
      "19\n",
      "20\n"
     ]
    }
   ],
   "source": [
    "x= 10\n",
    "\n",
    "while x < 20:\n",
    "    x+= 1\n",
    "    print(x)"
   ]
  },
  {
   "cell_type": "code",
   "execution_count": 174,
   "metadata": {},
   "outputs": [
    {
     "name": "stdout",
     "output_type": "stream",
     "text": [
      "10\n",
      "11\n",
      "12\n",
      "13\n",
      "14\n",
      "15\n",
      "16\n",
      "17\n",
      "18\n",
      "19\n",
      "20\n"
     ]
    }
   ],
   "source": [
    "x= 10\n",
    "\n",
    "while x <= 20:\n",
    "    print(x)\n",
    "    x+= 1"
   ]
  },
  {
   "cell_type": "markdown",
   "metadata": {},
   "source": [
    "10. Write a while loop that prints out all odd numbers from 30 to 50. Save all the even numbers into a list, print the list at the end."
   ]
  },
  {
   "cell_type": "code",
   "execution_count": 175,
   "metadata": {},
   "outputs": [
    {
     "name": "stdout",
     "output_type": "stream",
     "text": [
      "30\n",
      "32\n",
      "34\n",
      "36\n",
      "38\n",
      "40\n",
      "42\n",
      "44\n",
      "46\n",
      "48\n",
      "50\n"
     ]
    },
    {
     "data": {
      "text/plain": [
       "[31, 33, 35, 37, 39, 41, 43, 45, 47, 49]"
      ]
     },
     "execution_count": 175,
     "metadata": {},
     "output_type": "execute_result"
    }
   ],
   "source": [
    "# list\n",
    "lst_empty=[]\n",
    "\n",
    "# counter\n",
    "x=30\n",
    "\n",
    "# while loop\n",
    "\n",
    "while x <= 50:\n",
    "    if x%2 ==0:\n",
    "        print(x)\n",
    "    else:\n",
    "        lst_empty.append(x)\n",
    "    x+=1\n",
    "# print list\n",
    "lst_empty"
   ]
  },
  {
   "cell_type": "markdown",
   "metadata": {},
   "source": [
    "11. Write a while loop that goes from 15 to 25. Print out every number, if a number is multiple of 12 break the loop, otherwise continue."
   ]
  },
  {
   "cell_type": "code",
   "execution_count": 109,
   "metadata": {},
   "outputs": [
    {
     "name": "stdout",
     "output_type": "stream",
     "text": [
      "15\n",
      "16\n",
      "17\n",
      "18\n",
      "19\n",
      "20\n",
      "21\n",
      "22\n",
      "23\n"
     ]
    }
   ],
   "source": [
    "# counter\n",
    "x=15\n",
    "\n",
    "# while loop\n",
    "while x < 25:\n",
    "    if x %12 ==0:\n",
    "        break\n",
    "    else:\n",
    "        print (x)\n",
    "    x += 1\n"
   ]
  },
  {
   "cell_type": "markdown",
   "metadata": {},
   "source": [
    "## List Comprehension"
   ]
  },
  {
   "cell_type": "markdown",
   "metadata": {},
   "source": [
    "12. Use the list comprehension method and write a list from the word \"Maradona\""
   ]
  },
  {
   "cell_type": "code",
   "execution_count": 112,
   "metadata": {},
   "outputs": [
    {
     "data": {
      "text/plain": [
       "['M', 'a', 'r', 'a', 'd', 'o', 'n', 'a']"
      ]
     },
     "execution_count": 112,
     "metadata": {},
     "output_type": "execute_result"
    }
   ],
   "source": [
    "lst= [x for x in \"Maradona\"]\n",
    "lst"
   ]
  },
  {
   "cell_type": "markdown",
   "metadata": {},
   "source": [
    "## Functions"
   ]
  },
  {
   "cell_type": "markdown",
   "metadata": {},
   "source": [
    "13. Write a function that computes the volume of a sphere given its radius.\n",
    " * radius = 2.5 cm"
   ]
  },
  {
   "cell_type": "code",
   "execution_count": 113,
   "metadata": {},
   "outputs": [
    {
     "data": {
      "text/plain": [
       "4"
      ]
     },
     "execution_count": 113,
     "metadata": {},
     "output_type": "execute_result"
    }
   ],
   "source": [
    "def myfunct(n1):\n",
    "    return(n1*2)\n",
    "\n",
    "myfunct(2)"
   ]
  },
  {
   "cell_type": "markdown",
   "metadata": {},
   "source": [
    "14. Write a function that takes in input a list and return only the even numbers "
   ]
  },
  {
   "cell_type": "code",
   "execution_count": 177,
   "metadata": {},
   "outputs": [
    {
     "data": {
      "text/plain": [
       "[2, 4, 8]"
      ]
     },
     "execution_count": 177,
     "metadata": {},
     "output_type": "execute_result"
    }
   ],
   "source": [
    "def myfunc2(lst):\n",
    "    empty_list= []\n",
    "    for el in lst:\n",
    "        if el %2==0:\n",
    "            empty_list.append(el)\n",
    "    return(empty_list)\n",
    "\n",
    "myfunc2(list(range(1,18)))"
   ]
  },
  {
   "cell_type": "code",
   "execution_count": null,
   "metadata": {},
   "outputs": [],
   "source": [
    "def myfunc3(lst):\n",
    "    return [x for x in lst if x%2==0]\n",
    "\n",
    "myfunc3([2,4,5,77,8,99])"
   ]
  },
  {
   "cell_type": "markdown",
   "metadata": {},
   "source": [
    "15. Write a function that checks whether a number is in a given range (Inclusive of high and low)\n",
    " * E.g: *myfunc(number, lower, higher)*"
   ]
  },
  {
   "cell_type": "code",
   "execution_count": 141,
   "metadata": {},
   "outputs": [],
   "source": [
    "def myfunc4(num,low,hight):\n",
    "    if num >low and num < hight:\n",
    "        return (\"in\")\n",
    "    else:\n",
    "        return (\"out\")"
   ]
  },
  {
   "cell_type": "code",
   "execution_count": 144,
   "metadata": {},
   "outputs": [],
   "source": [
    "def myfunc4(num,low,hight):\n",
    "    if low<num< hight:\n",
    "        return (\"in\")\n",
    "    else:\n",
    "        return (\"out\")"
   ]
  },
  {
   "cell_type": "code",
   "execution_count": 145,
   "metadata": {},
   "outputs": [
    {
     "data": {
      "text/plain": [
       "'in'"
      ]
     },
     "execution_count": 145,
     "metadata": {},
     "output_type": "execute_result"
    }
   ],
   "source": [
    "myfunc4(10,2,20)"
   ]
  },
  {
   "cell_type": "markdown",
   "metadata": {},
   "source": [
    "16. Write a fuction that check if a given number is prime."
   ]
  },
  {
   "cell_type": "code",
   "execution_count": 129,
   "metadata": {},
   "outputs": [
    {
     "name": "stdout",
     "output_type": "stream",
     "text": [
      "True\n",
      "False\n"
     ]
    }
   ],
   "source": [
    "def Check_Prime(number):\n",
    "    '''\n",
    "    Check if a number is prime\n",
    "    '''\n",
    "    if number > 2 and number%2 == 0:\n",
    "        return False\n",
    "    if number < 2:\n",
    "        return False\n",
    "    else:\n",
    "        return True\n",
    "    \n",
    "print(Check_Prime(3))\n",
    "print(Check_Prime(4))"
   ]
  },
  {
   "cell_type": "markdown",
   "metadata": {},
   "source": [
    "## Congratulation!\n",
    "\n",
    "### You have compleated the Assessment Test, now it's time to move on the other session on the course: Numpy,Pandas and Visualization"
   ]
  },
  {
   "cell_type": "code",
   "execution_count": null,
   "metadata": {},
   "outputs": [],
   "source": []
  }
 ],
 "metadata": {
  "kernelspec": {
   "display_name": "Python 3",
   "language": "python",
   "name": "python3"
  },
  "language_info": {
   "codemirror_mode": {
    "name": "ipython",
    "version": 3
   },
   "file_extension": ".py",
   "mimetype": "text/x-python",
   "name": "python",
   "nbconvert_exporter": "python",
   "pygments_lexer": "ipython3",
   "version": "3.7.1"
  }
 },
 "nbformat": 4,
 "nbformat_minor": 2
}
