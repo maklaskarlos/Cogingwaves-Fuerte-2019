{
 "cells": [
  {
   "cell_type": "markdown",
   "metadata": {},
   "source": [
    "# File Exercises"
   ]
  },
  {
   "cell_type": "markdown",
   "metadata": {},
   "source": [
    "1. Create a file with the iPython (%%) method and write inside for lines of text."
   ]
  },
  {
   "cell_type": "code",
   "execution_count": 50,
   "metadata": {
    "scrolled": true
   },
   "outputs": [
    {
     "name": "stdout",
     "output_type": "stream",
     "text": [
      "Overwriting first_test.txt\n"
     ]
    }
   ],
   "source": [
    "%%writefile first_test.txt\n",
    "blablablablabla\n",
    "blablablablabla\n",
    "karloskarloslarlos\n",
    "maidermaidermaider"
   ]
  },
  {
   "cell_type": "markdown",
   "metadata": {},
   "source": [
    "2. Open the file and read it as an entire string (don't use the \"with\" method)."
   ]
  },
  {
   "cell_type": "code",
   "execution_count": 55,
   "metadata": {},
   "outputs": [
    {
     "data": {
      "text/plain": [
       "'blablablablabla\\nblablablablabla\\nkarloskarloslarlos\\nmaidermaidermaider\\n'"
      ]
     },
     "execution_count": 55,
     "metadata": {},
     "output_type": "execute_result"
    }
   ],
   "source": [
    "my_file = open(\"first_test.txt\")\n",
    "my_file.read()"
   ]
  },
  {
   "cell_type": "markdown",
   "metadata": {},
   "source": [
    "3. Try to read the file again (don't re-open it)."
   ]
  },
  {
   "cell_type": "code",
   "execution_count": 56,
   "metadata": {},
   "outputs": [
    {
     "data": {
      "text/plain": [
       "'blablablablabla\\nblablablablabla\\nkarloskarloslarlos\\nmaidermaidermaider\\n'"
      ]
     },
     "execution_count": 56,
     "metadata": {},
     "output_type": "execute_result"
    }
   ],
   "source": [
    "my_file.seek(0)\n",
    "my_file.read()"
   ]
  },
  {
   "cell_type": "markdown",
   "metadata": {},
   "source": [
    "4. Write to the file other two lines of text. "
   ]
  },
  {
   "cell_type": "code",
   "execution_count": 58,
   "metadata": {},
   "outputs": [],
   "source": [
    "with open( \"first_test.txt\", 'a') as f:\n",
    "    f.write(\"this is the adding line\")\n",
    "    f.write(\"this the secong adding line\")"
   ]
  },
  {
   "cell_type": "markdown",
   "metadata": {},
   "source": [
    "5. Now read the file line by line (don't re-open it)."
   ]
  },
  {
   "cell_type": "code",
   "execution_count": 59,
   "metadata": {},
   "outputs": [
    {
     "data": {
      "text/plain": [
       "['this is the adding linethis the secong adding line']"
      ]
     },
     "execution_count": 59,
     "metadata": {},
     "output_type": "execute_result"
    }
   ],
   "source": [
    "my_file.readlines()"
   ]
  },
  {
   "cell_type": "markdown",
   "metadata": {},
   "source": [
    "6. Print the lines one by one using a \"for\" loop."
   ]
  },
  {
   "cell_type": "code",
   "execution_count": 72,
   "metadata": {},
   "outputs": [
    {
     "name": "stdout",
     "output_type": "stream",
     "text": [
      "blablablablabla\n",
      "\n",
      "blablablablabla\n",
      "\n",
      "karloskarloslarlos\n",
      "\n",
      "maidermaidermaider\n",
      "\n",
      "this is the adding linethis the secong adding line\n"
     ]
    }
   ],
   "source": [
    "content= open(\"first_test.txt\")\n",
    "\n",
    "for rows in content.readlines():\n",
    "    print(rows)"
   ]
  },
  {
   "cell_type": "markdown",
   "metadata": {},
   "source": [
    "7. Close the file."
   ]
  },
  {
   "cell_type": "code",
   "execution_count": 73,
   "metadata": {},
   "outputs": [],
   "source": [
    "my_file.close()"
   ]
  },
  {
   "cell_type": "markdown",
   "metadata": {},
   "source": [
    "### The \"with\" method"
   ]
  },
  {
   "cell_type": "markdown",
   "metadata": {},
   "source": [
    "1. Use the \"with\" method ad open your previouse file in a read mode 'r' and print the content."
   ]
  },
  {
   "cell_type": "code",
   "execution_count": 74,
   "metadata": {},
   "outputs": [
    {
     "name": "stdout",
     "output_type": "stream",
     "text": [
      "blablablablabla\n",
      "blablablablabla\n",
      "karloskarloslarlos\n",
      "maidermaidermaider\n",
      "this is the adding linethis the secong adding line\n"
     ]
    }
   ],
   "source": [
    "with open(\"first_test.txt\", mode=\"r\") as f:\n",
    "    content= f.read()\n",
    "    print(content)"
   ]
  },
  {
   "cell_type": "markdown",
   "metadata": {},
   "source": [
    "2. Use the \"with\" method and write a second file. Inside the file write down three line of text."
   ]
  },
  {
   "cell_type": "code",
   "execution_count": 75,
   "metadata": {},
   "outputs": [],
   "source": [
    "with open(\"second_test.txt\", mode=\"w\") as fw:\n",
    "    fw.write(\"Hello guys!, \\nWelcome to Fuerteventura!\")"
   ]
  },
  {
   "cell_type": "markdown",
   "metadata": {},
   "source": [
    "3. Open the second file and append other two line of text."
   ]
  },
  {
   "cell_type": "code",
   "execution_count": 78,
   "metadata": {},
   "outputs": [
    {
     "data": {
      "text/plain": [
       "<_io.TextIOWrapper name='first_test.txt' mode='r' encoding='cp1252'>"
      ]
     },
     "execution_count": 78,
     "metadata": {},
     "output_type": "execute_result"
    }
   ],
   "source": [
    "with open (\"second_test.txt\", \"a\") as fw:\n",
    "    fw.write(\"Hello guys!, \\nWelcome to Fuerteventura!++++++\")\n",
    "    fw.write(\"Hello guys!, \\nWelcome to Fuerteventura!-------\")"
   ]
  },
  {
   "cell_type": "markdown",
   "metadata": {},
   "source": [
    "# Nice! You are learning a lot of stuffs!"
   ]
  },
  {
   "cell_type": "code",
   "execution_count": null,
   "metadata": {},
   "outputs": [],
   "source": []
  }
 ],
 "metadata": {
  "kernelspec": {
   "display_name": "Python 3",
   "language": "python",
   "name": "python3"
  },
  "language_info": {
   "codemirror_mode": {
    "name": "ipython",
    "version": 3
   },
   "file_extension": ".py",
   "mimetype": "text/x-python",
   "name": "python",
   "nbconvert_exporter": "python",
   "pygments_lexer": "ipython3",
   "version": "3.7.1"
  }
 },
 "nbformat": 4,
 "nbformat_minor": 2
}
