{
 "cells": [
  {
   "cell_type": "code",
   "execution_count": 4,
   "metadata": {},
   "outputs": [],
   "source": [
    "import pandas as pd\n",
    "import numpy as np\n",
    "from matplotlib import  pyplot as plt"
   ]
  },
  {
   "cell_type": "code",
   "execution_count": 5,
   "metadata": {},
   "outputs": [],
   "source": [
    "area_house = np.random.rand(500) * 10\n",
    "prices= 7*area_house + 3\n",
    "prices= prices + np.random.randn(500) *5"
   ]
  },
  {
   "cell_type": "code",
   "execution_count": 15,
   "metadata": {},
   "outputs": [
    {
     "data": {
      "text/plain": [
       "(500,)"
      ]
     },
     "execution_count": 15,
     "metadata": {},
     "output_type": "execute_result"
    }
   ],
   "source": [
    "area_house.shape"
   ]
  },
  {
   "cell_type": "code",
   "execution_count": 9,
   "metadata": {},
   "outputs": [
    {
     "data": {
      "image/png": "[encoded data removed]",
      "text/plain": [
       "<Figure size 432x288 with 1 Axes>"
      ]
     },
     "metadata": {
      "needs_background": "light"
     },
     "output_type": "display_data"
    }
   ],
   "source": [
    "plt.scatter(area_house, prices)\n",
    "plt.grid()\n",
    "plt.show()"
   ]
  },
  {
   "cell_type": "code",
   "execution_count": 18,
   "metadata": {},
   "outputs": [
    {
     "data": {
      "text/plain": [
       "(500,)"
      ]
     },
     "execution_count": 18,
     "metadata": {},
     "output_type": "execute_result"
    }
   ],
   "source": [
    "area_house.shape"
   ]
  },
  {
   "cell_type": "code",
   "execution_count": 22,
   "metadata": {},
   "outputs": [
    {
     "data": {
      "text/plain": [
       "array([[8.37764431e+00],\n",
       "       [4.58550475e+00],\n",
       "       [3.50113432e+00],\n",
       "       [7.63386015e+00],\n",
       "       [2.03025645e+00],\n",
       "       [1.62163278e+00],\n",
       "       [4.25275533e+00],\n",
       "       [6.59873135e+00],\n",
       "       [8.23198799e-01],\n",
       "       [2.10809877e+00],\n",
       "       [3.75471368e+00],\n",
       "       [9.35892830e+00],\n",
       "       [3.08146011e+00],\n",
       "       [9.69788803e+00],\n",
       "       [1.15252653e+00],\n",
       "       [1.75166215e+00],\n",
       "       [9.88847041e-01],\n",
       "       [4.60597467e+00],\n",
       "       [6.29567470e+00],\n",
       "       [4.79936402e+00],\n",
       "       [5.64928901e+00],\n",
       "       [9.82417029e-01],\n",
       "       [9.14562300e+00],\n",
       "       [2.40377168e+00],\n",
       "       [3.86813189e+00],\n",
       "       [7.27207875e+00],\n",
       "       [4.63988821e+00],\n",
       "       [9.55386150e+00],\n",
       "       [3.98296458e+00],\n",
       "       [6.56051639e-01],\n",
       "       [8.46449761e-01],\n",
       "       [6.23410637e+00],\n",
       "       [3.07940097e+00],\n",
       "       [6.96734073e+00],\n",
       "       [8.89988258e+00],\n",
       "       [1.15807902e+00],\n",
       "       [5.81220287e+00],\n",
       "       [5.91019753e+00],\n",
       "       [8.15480739e+00],\n",
       "       [1.69631725e+00],\n",
       "       [9.26929314e+00],\n",
       "       [5.95948630e+00],\n",
       "       [3.40445395e+00],\n",
       "       [8.07781920e+00],\n",
       "       [9.75706640e+00],\n",
       "       [2.45453022e+00],\n",
       "       [1.15421363e+00],\n",
       "       [3.98892383e+00],\n",
       "       [2.98116109e+00],\n",
       "       [6.34892686e+00],\n",
       "       [9.23235356e+00],\n",
       "       [2.93396721e-01],\n",
       "       [9.68608012e-01],\n",
       "       [9.37815535e-01],\n",
       "       [9.70744409e+00],\n",
       "       [2.77337035e+00],\n",
       "       [7.95728960e+00],\n",
       "       [7.90295916e+00],\n",
       "       [1.21367194e+00],\n",
       "       [5.16755025e+00],\n",
       "       [2.99338513e+00],\n",
       "       [7.26288290e+00],\n",
       "       [1.35610663e+00],\n",
       "       [9.04396113e+00],\n",
       "       [5.44193790e+00],\n",
       "       [6.43991067e+00],\n",
       "       [7.26006053e-03],\n",
       "       [3.92961211e+00],\n",
       "       [2.32292937e+00],\n",
       "       [4.85751316e+00],\n",
       "       [2.57334887e+00],\n",
       "       [2.59378854e+00],\n",
       "       [1.16270075e+00],\n",
       "       [1.02143452e+00],\n",
       "       [5.35818378e+00],\n",
       "       [6.38407699e+00],\n",
       "       [4.26518401e+00],\n",
       "       [7.33723886e+00],\n",
       "       [7.74737692e+00],\n",
       "       [5.58237653e+00],\n",
       "       [3.59903682e+00],\n",
       "       [5.59902676e+00],\n",
       "       [6.78784111e+00],\n",
       "       [2.93996797e+00],\n",
       "       [4.41299425e-01],\n",
       "       [9.20644289e+00],\n",
       "       [6.15429579e+00],\n",
       "       [9.10090283e+00],\n",
       "       [6.98570858e+00],\n",
       "       [4.13567932e+00],\n",
       "       [1.15153999e-01],\n",
       "       [8.55936731e-01],\n",
       "       [7.27404916e+00],\n",
       "       [1.17234929e+00],\n",
       "       [7.83697046e+00],\n",
       "       [5.26941972e+00],\n",
       "       [6.41861244e+00],\n",
       "       [3.47796001e-01],\n",
       "       [5.94195246e+00],\n",
       "       [7.96631700e-01],\n",
       "       [5.54657559e+00],\n",
       "       [5.82477655e+00],\n",
       "       [8.94307857e+00],\n",
       "       [3.13195620e+00],\n",
       "       [2.53709545e+00],\n",
       "       [9.44206441e+00],\n",
       "       [2.43270777e+00],\n",
       "       [4.62450301e+00],\n",
       "       [8.80040901e+00],\n",
       "       [8.92405932e+00],\n",
       "       [9.20611123e+00],\n",
       "       [6.25525511e-01],\n",
       "       [7.51028416e+00],\n",
       "       [1.48816502e-01],\n",
       "       [9.42835494e+00],\n",
       "       [2.21476291e+00],\n",
       "       [9.41748469e+00],\n",
       "       [8.64571964e+00],\n",
       "       [5.42911704e+00],\n",
       "       [4.22723592e-01],\n",
       "       [1.94829694e+00],\n",
       "       [8.82000343e-01],\n",
       "       [1.25229442e+00],\n",
       "       [4.14562934e+00],\n",
       "       [3.09552392e+00],\n",
       "       [9.37683208e+00],\n",
       "       [6.38291726e+00],\n",
       "       [5.60212097e+00],\n",
       "       [2.75769062e+00],\n",
       "       [4.47836527e+00],\n",
       "       [8.97458692e+00],\n",
       "       [8.89912547e+00],\n",
       "       [3.19671206e+00],\n",
       "       [1.56666851e+00],\n",
       "       [2.18567087e+00],\n",
       "       [3.48624873e+00],\n",
       "       [8.98215113e+00],\n",
       "       [6.82992271e+00],\n",
       "       [2.84166667e-01],\n",
       "       [5.14333720e+00],\n",
       "       [1.81264461e-01],\n",
       "       [9.70079352e-01],\n",
       "       [1.52412489e+00],\n",
       "       [2.68476508e+00],\n",
       "       [9.54142875e+00],\n",
       "       [2.95582261e+00],\n",
       "       [8.28160558e+00],\n",
       "       [6.87282103e+00],\n",
       "       [3.71401652e+00],\n",
       "       [4.80342981e+00],\n",
       "       [7.63049431e+00],\n",
       "       [5.55715468e+00],\n",
       "       [5.48818900e+00],\n",
       "       [3.90042823e+00],\n",
       "       [8.09665848e+00],\n",
       "       [8.42117116e-01],\n",
       "       [6.78119102e+00],\n",
       "       [4.27025395e+00],\n",
       "       [8.05903869e+00],\n",
       "       [8.53459626e+00],\n",
       "       [3.33949748e+00],\n",
       "       [8.70595645e+00],\n",
       "       [6.01337406e-01],\n",
       "       [1.99610523e+00],\n",
       "       [3.45227448e+00],\n",
       "       [5.34467558e+00],\n",
       "       [6.14654914e+00],\n",
       "       [6.42593322e+00],\n",
       "       [3.87416443e+00],\n",
       "       [5.90639440e+00],\n",
       "       [1.76228124e+00],\n",
       "       [7.55802460e+00],\n",
       "       [5.24720085e+00],\n",
       "       [7.00479143e+00],\n",
       "       [4.51177374e+00],\n",
       "       [5.19108299e+00],\n",
       "       [4.94360918e+00],\n",
       "       [6.18490073e+00],\n",
       "       [7.25068210e+00],\n",
       "       [2.12742641e+00],\n",
       "       [2.72252490e+00],\n",
       "       [9.94842900e+00],\n",
       "       [2.12097590e-01],\n",
       "       [1.18845742e+00],\n",
       "       [7.55655301e+00],\n",
       "       [5.67359751e+00],\n",
       "       [2.87632646e+00],\n",
       "       [2.14206475e+00],\n",
       "       [6.31768760e+00],\n",
       "       [5.82986068e+00],\n",
       "       [1.01780565e+00],\n",
       "       [9.99233946e-01],\n",
       "       [6.20731625e+00],\n",
       "       [2.81064272e+00],\n",
       "       [2.67294480e+00],\n",
       "       [6.61700071e+00],\n",
       "       [8.31404379e-01],\n",
       "       [5.20497085e+00],\n",
       "       [2.21586238e+00],\n",
       "       [4.96236459e+00],\n",
       "       [2.26472373e+00],\n",
       "       [8.42605921e-01],\n",
       "       [3.30030498e+00],\n",
       "       [2.96470675e+00],\n",
       "       [5.68267168e+00],\n",
       "       [7.40160338e+00],\n",
       "       [1.62021575e+00],\n",
       "       [8.18105464e+00],\n",
       "       [6.65672898e+00],\n",
       "       [6.23884518e+00],\n",
       "       [1.92486103e+00],\n",
       "       [6.62587024e+00],\n",
       "       [1.97350864e+00],\n",
       "       [8.20458423e+00],\n",
       "       [4.75263811e+00],\n",
       "       [4.56744995e+00],\n",
       "       [3.96452444e+00],\n",
       "       [6.87714280e+00],\n",
       "       [8.98588852e+00],\n",
       "       [8.04810132e+00],\n",
       "       [2.93675290e+00],\n",
       "       [4.84543947e+00],\n",
       "       [5.47821908e+00],\n",
       "       [9.84086222e+00],\n",
       "       [7.31380354e+00],\n",
       "       [5.41349410e+00],\n",
       "       [6.78777610e+00],\n",
       "       [4.98935479e+00],\n",
       "       [3.25024194e+00],\n",
       "       [5.60914668e+00],\n",
       "       [8.18176304e+00],\n",
       "       [5.74990109e+00],\n",
       "       [3.77091423e+00],\n",
       "       [2.03786999e+00],\n",
       "       [5.68979280e+00],\n",
       "       [6.45318578e+00],\n",
       "       [9.14827393e+00],\n",
       "       [7.72755371e+00],\n",
       "       [4.42595699e+00],\n",
       "       [7.59837322e+00],\n",
       "       [6.48110836e+00],\n",
       "       [4.48437104e+00],\n",
       "       [8.60038876e+00],\n",
       "       [5.00261767e+00],\n",
       "       [3.61858899e+00],\n",
       "       [9.15546908e+00],\n",
       "       [4.57823774e+00],\n",
       "       [1.64141890e+00],\n",
       "       [6.64887294e+00],\n",
       "       [3.72785224e+00],\n",
       "       [1.76774906e+00],\n",
       "       [6.30742810e+00],\n",
       "       [8.49077511e+00],\n",
       "       [4.58757784e+00],\n",
       "       [8.73634416e+00],\n",
       "       [2.49412344e+00],\n",
       "       [3.32980249e+00],\n",
       "       [5.45200953e+00],\n",
       "       [9.27656608e+00],\n",
       "       [9.28179785e+00],\n",
       "       [6.01092127e+00],\n",
       "       [6.75884593e+00],\n",
       "       [4.11986761e-01],\n",
       "       [2.67905374e+00],\n",
       "       [2.67637586e+00],\n",
       "       [7.66797899e+00],\n",
       "       [3.26458448e+00],\n",
       "       [2.39393699e+00],\n",
       "       [4.42425789e+00],\n",
       "       [4.08383651e-01],\n",
       "       [4.52217421e+00],\n",
       "       [5.85879322e-01],\n",
       "       [4.31923510e+00],\n",
       "       [4.66961699e+00],\n",
       "       [1.66372267e+00],\n",
       "       [4.01968080e+00],\n",
       "       [1.90111852e+00],\n",
       "       [6.67860269e+00],\n",
       "       [8.40887689e+00],\n",
       "       [1.23570511e+00],\n",
       "       [9.28567970e+00],\n",
       "       [5.87144742e+00],\n",
       "       [6.94480437e+00],\n",
       "       [1.37467855e+00],\n",
       "       [7.93286305e-01],\n",
       "       [6.85349264e-02],\n",
       "       [6.35827535e+00],\n",
       "       [1.22402519e+00],\n",
       "       [9.85083871e+00],\n",
       "       [7.80029213e-01],\n",
       "       [4.65634863e-01],\n",
       "       [1.16002763e+00],\n",
       "       [7.83344345e+00],\n",
       "       [7.44195324e+00],\n",
       "       [7.84696151e-01],\n",
       "       [7.86524925e+00],\n",
       "       [8.92614712e+00],\n",
       "       [6.11250528e+00],\n",
       "       [5.15316291e+00],\n",
       "       [6.98958401e+00],\n",
       "       [8.86642018e+00],\n",
       "       [3.28425278e+00],\n",
       "       [2.56150967e+00],\n",
       "       [2.04656227e+00],\n",
       "       [8.30863807e+00],\n",
       "       [6.37639191e+00],\n",
       "       [6.02576793e+00],\n",
       "       [4.97105735e-01],\n",
       "       [4.38125313e+00],\n",
       "       [7.47027881e+00],\n",
       "       [9.29799814e+00],\n",
       "       [9.12436677e+00],\n",
       "       [7.15106637e-01],\n",
       "       [8.37627769e+00],\n",
       "       [4.65621284e+00],\n",
       "       [8.28481648e+00],\n",
       "       [4.44791189e+00],\n",
       "       [4.95426967e+00],\n",
       "       [3.15720762e-01],\n",
       "       [9.31550070e+00],\n",
       "       [8.87180860e+00],\n",
       "       [4.96779395e+00],\n",
       "       [9.32018812e+00],\n",
       "       [4.57361212e+00],\n",
       "       [1.03656685e+00],\n",
       "       [8.70481368e+00],\n",
       "       [3.23541472e+00],\n",
       "       [3.13362419e+00],\n",
       "       [7.53776767e+00],\n",
       "       [3.62549124e+00],\n",
       "       [3.23229193e+00],\n",
       "       [9.76226753e+00],\n",
       "       [5.88062703e+00],\n",
       "       [3.24192342e+00],\n",
       "       [9.33854138e+00],\n",
       "       [1.57321117e+00],\n",
       "       [1.65531828e+00],\n",
       "       [2.79043148e+00],\n",
       "       [1.77140643e+00],\n",
       "       [8.99626304e+00],\n",
       "       [1.37090405e+00],\n",
       "       [9.50360063e+00],\n",
       "       [5.76159669e+00],\n",
       "       [7.97011156e+00],\n",
       "       [3.59362937e+00],\n",
       "       [5.52096327e+00],\n",
       "       [7.88509055e+00],\n",
       "       [5.23629178e+00],\n",
       "       [5.33790292e+00],\n",
       "       [3.39980743e+00],\n",
       "       [9.19881778e+00],\n",
       "       [8.89782640e+00],\n",
       "       [7.07862658e+00],\n",
       "       [7.61997185e+00],\n",
       "       [6.64694987e+00],\n",
       "       [4.04110230e+00],\n",
       "       [9.44532739e+00],\n",
       "       [8.76044292e+00],\n",
       "       [5.46688677e-01],\n",
       "       [9.59548102e+00],\n",
       "       [4.37448194e+00],\n",
       "       [9.85998684e+00],\n",
       "       [7.08519000e+00],\n",
       "       [9.77528021e+00],\n",
       "       [5.67023782e+00],\n",
       "       [8.41834627e+00],\n",
       "       [2.70533231e+00],\n",
       "       [4.26787055e+00],\n",
       "       [5.32073017e+00],\n",
       "       [5.72829832e+00],\n",
       "       [9.69539852e-01],\n",
       "       [2.22907157e+00],\n",
       "       [2.74549094e+00],\n",
       "       [1.58773043e+00],\n",
       "       [6.85885051e+00],\n",
       "       [9.15581884e+00],\n",
       "       [9.91279091e+00],\n",
       "       [3.55061096e+00],\n",
       "       [7.32572809e+00],\n",
       "       [5.53877051e+00],\n",
       "       [1.76562811e+00],\n",
       "       [1.35360976e+00],\n",
       "       [7.69136594e+00],\n",
       "       [1.05427122e-01],\n",
       "       [6.33253947e+00],\n",
       "       [3.75945403e+00],\n",
       "       [1.46890880e+00],\n",
       "       [4.02159595e+00],\n",
       "       [8.38177194e+00],\n",
       "       [8.18688719e+00],\n",
       "       [5.84436951e+00],\n",
       "       [8.54641193e+00],\n",
       "       [4.70920285e-01],\n",
       "       [1.92496700e+00],\n",
       "       [5.50380768e+00],\n",
       "       [6.70445492e+00],\n",
       "       [8.79974713e+00],\n",
       "       [1.96638149e-01],\n",
       "       [3.26494959e+00],\n",
       "       [9.13258290e+00],\n",
       "       [7.10106335e+00],\n",
       "       [9.53479894e-01],\n",
       "       [6.82828739e+00],\n",
       "       [5.55552332e-01],\n",
       "       [6.90738833e+00],\n",
       "       [5.24933628e+00],\n",
       "       [3.01079674e+00],\n",
       "       [4.36230136e+00],\n",
       "       [5.05984225e+00],\n",
       "       [6.84530354e+00],\n",
       "       [4.60762623e+00],\n",
       "       [5.41305479e+00],\n",
       "       [6.65168605e-01],\n",
       "       [4.28580012e+00],\n",
       "       [1.35202560e+00],\n",
       "       [5.40950511e+00],\n",
       "       [5.66283201e+00],\n",
       "       [9.29350419e+00],\n",
       "       [8.23237806e+00],\n",
       "       [1.78976544e+00],\n",
       "       [4.25718386e+00],\n",
       "       [6.60721549e+00],\n",
       "       [5.33473570e-02],\n",
       "       [3.62273151e+00],\n",
       "       [5.49098541e+00],\n",
       "       [7.50457412e+00],\n",
       "       [4.17036000e+00],\n",
       "       [3.96164624e+00],\n",
       "       [4.68399697e+00],\n",
       "       [8.85139845e+00],\n",
       "       [2.70758344e+00],\n",
       "       [3.74877181e-01],\n",
       "       [3.95482504e+00],\n",
       "       [9.94227148e+00],\n",
       "       [4.47908901e+00],\n",
       "       [4.26192670e+00],\n",
       "       [3.71445897e+00],\n",
       "       [6.57262310e+00],\n",
       "       [6.59401800e+00],\n",
       "       [4.33608167e+00],\n",
       "       [1.90202159e+00],\n",
       "       [8.14330042e+00],\n",
       "       [5.17390332e+00],\n",
       "       [5.89455011e+00],\n",
       "       [9.24967767e+00],\n",
       "       [7.03482985e+00],\n",
       "       [4.36694689e+00],\n",
       "       [8.65335419e+00],\n",
       "       [6.35880977e+00],\n",
       "       [9.29572428e+00],\n",
       "       [6.07715253e+00],\n",
       "       [7.32810037e+00],\n",
       "       [7.00146966e+00],\n",
       "       [6.41629167e+00],\n",
       "       [1.36069820e+00],\n",
       "       [8.88811506e+00],\n",
       "       [6.21679221e+00],\n",
       "       [2.60634401e+00],\n",
       "       [9.97965524e+00],\n",
       "       [7.83585339e-01],\n",
       "       [2.80523984e+00],\n",
       "       [1.92276485e+00],\n",
       "       [8.39999384e+00],\n",
       "       [6.37466523e+00],\n",
       "       [3.46499618e-01],\n",
       "       [3.73691954e-01],\n",
       "       [4.17189430e+00],\n",
       "       [6.12331435e+00],\n",
       "       [7.11687509e+00],\n",
       "       [6.16538269e+00],\n",
       "       [7.99441506e+00],\n",
       "       [2.81821093e+00],\n",
       "       [1.21377913e-01],\n",
       "       [1.22654261e+00],\n",
       "       [6.38962435e+00],\n",
       "       [6.08862648e+00],\n",
       "       [1.10195344e+00],\n",
       "       [5.49356795e+00],\n",
       "       [2.32344403e+00],\n",
       "       [5.64785658e+00],\n",
       "       [4.55839746e+00],\n",
       "       [5.77604600e+00],\n",
       "       [2.37742153e+00],\n",
       "       [3.18092422e+00],\n",
       "       [4.65181501e+00],\n",
       "       [2.13192647e-01],\n",
       "       [6.57339182e+00],\n",
       "       [7.98873725e+00],\n",
       "       [5.78580550e+00],\n",
       "       [3.11474650e+00],\n",
       "       [8.99230785e+00],\n",
       "       [2.73230916e+00],\n",
       "       [8.70488895e+00],\n",
       "       [7.84141783e+00],\n",
       "       [2.92585705e+00],\n",
       "       [7.66198452e+00],\n",
       "       [6.20229714e+00],\n",
       "       [1.25223778e+00],\n",
       "       [7.69622763e+00],\n",
       "       [8.08278845e+00]])"
      ]
     },
     "execution_count": 22,
     "metadata": {},
     "output_type": "execute_result"
    }
   ],
   "source": [
    "area_house.reshape(500,1)"
   ]
  },
  {
   "cell_type": "code",
   "execution_count": 19,
   "metadata": {},
   "outputs": [],
   "source": [
    "from sklearn.linear_model import LinearRegression"
   ]
  },
  {
   "cell_type": "code",
   "execution_count": 20,
   "metadata": {},
   "outputs": [],
   "source": [
    "# careffull with reshaping\n",
    "\n",
    "my_linear_model = LinearRegression()"
   ]
  },
  {
   "cell_type": "code",
   "execution_count": 21,
   "metadata": {},
   "outputs": [
    {
     "data": {
      "text/plain": [
       "LinearRegression(copy_X=True, fit_intercept=True, n_jobs=None,\n",
       "         normalize=False)"
      ]
     },
     "execution_count": 21,
     "metadata": {},
     "output_type": "execute_result"
    }
   ],
   "source": [
    "my_linear_model.fit(area_house.reshape(-1,1),\n",
    "                   prices.reshape(-1,1))"
   ]
  },
  {
   "cell_type": "code",
   "execution_count": 23,
   "metadata": {},
   "outputs": [
    {
     "data": {
      "text/plain": [
       "array([[6.88104972]])"
      ]
     },
     "execution_count": 23,
     "metadata": {},
     "output_type": "execute_result"
    }
   ],
   "source": [
    "my_linear_model.coef_"
   ]
  },
  {
   "cell_type": "code",
   "execution_count": 24,
   "metadata": {},
   "outputs": [
    {
     "data": {
      "text/plain": [
       "array([3.48020486])"
      ]
     },
     "execution_count": 24,
     "metadata": {},
     "output_type": "execute_result"
    }
   ],
   "source": [
    "my_linear_model.intercept_"
   ]
  },
  {
   "cell_type": "code",
   "execution_count": 25,
   "metadata": {},
   "outputs": [
    {
     "data": {
      "image/png": "[encoded data removed]",
      "text/plain": [
       "<Figure size 432x288 with 1 Axes>"
      ]
     },
     "metadata": {
      "needs_background": "light"
     },
     "output_type": "display_data"
    }
   ],
   "source": [
    "plt.scatter(area_house, prices)\n",
    "plt.grid()\n",
    "plt.show()"
   ]
  },
  {
   "cell_type": "code",
   "execution_count": 27,
   "metadata": {},
   "outputs": [],
   "source": [
    "start = my_linear_model.predict(np.array([[0]]))\n",
    "end = my_linear_model.predict(np.array([[10]]))"
   ]
  },
  {
   "cell_type": "code",
   "execution_count": 28,
   "metadata": {},
   "outputs": [
    {
     "data": {
      "image/png": "[encoded data removed]",
      "text/plain": [
       "<Figure size 432x288 with 1 Axes>"
      ]
     },
     "metadata": {
      "needs_background": "light"
     },
     "output_type": "display_data"
    }
   ],
   "source": [
    "plt.scatter(area_house, prices)\n",
    "plt.plot([0,10], [start[0][0], end [0][0]], \"r\", linewidth=5)\n",
    "plt.grid()\n",
    "plt.show()"
   ]
  },
  {
   "cell_type": "code",
   "execution_count": 31,
   "metadata": {},
   "outputs": [
    {
     "data": {
      "text/plain": [
       "array([[31.00440373],\n",
       "       [44.76650316],\n",
       "       [37.88545344],\n",
       "       [24.12335401],\n",
       "       [31.00440373],\n",
       "       [17.24230429],\n",
       "       [24.12335401],\n",
       "       [37.88545344],\n",
       "       [37.88545344],\n",
       "       [31.00440373]])"
      ]
     },
     "execution_count": 31,
     "metadata": {},
     "output_type": "execute_result"
    }
   ],
   "source": [
    "# we are predicting the price of the house for the different square meter houses: 4,6,5,3,4,2...\n",
    "\n",
    "my_linear_model.predict(np.array([4,6,5,3,4,2,3,5,5,4]).reshape(-1,1))"
   ]
  },
  {
   "cell_type": "code",
   "execution_count": null,
   "metadata": {},
   "outputs": [],
   "source": []
  }
 ],
 "metadata": {
  "kernelspec": {
   "display_name": "Python 3",
   "language": "python",
   "name": "python3"
  },
  "language_info": {
   "codemirror_mode": {
    "name": "ipython",
    "version": 3
   },
   "file_extension": ".py",
   "mimetype": "text/x-python",
   "name": "python",
   "nbconvert_exporter": "python",
   "pygments_lexer": "ipython3",
   "version": "3.7.1"
  }
 },
 "nbformat": 4,
 "nbformat_minor": 2
}
