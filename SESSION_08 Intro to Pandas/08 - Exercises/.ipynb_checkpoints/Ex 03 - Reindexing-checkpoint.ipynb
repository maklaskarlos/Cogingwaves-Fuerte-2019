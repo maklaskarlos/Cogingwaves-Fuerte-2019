{
 "cells": [
  {
   "cell_type": "markdown",
   "metadata": {},
   "source": [
    "# Intro to Pandas\n",
    "\n",
    "## Reindex Exercises"
   ]
  },
  {
   "cell_type": "markdown",
   "metadata": {},
   "source": [
    "Import Pandas and Numpy"
   ]
  },
  {
   "cell_type": "code",
   "execution_count": 1,
   "metadata": {},
   "outputs": [],
   "source": [
    "# Basic Imports\n",
    "import numpy as np\n",
    "from pandas import Series, DataFrame\n",
    "import pandas as pd\n",
    "import numpy as np"
   ]
  },
  {
   "cell_type": "markdown",
   "metadata": {},
   "source": [
    "### .reindex() method\n",
    "\n",
    "1. Create a series from range 1 to 6 and index every value with the letter from \"A\" to \"F\"."
   ]
  },
  {
   "cell_type": "code",
   "execution_count": 4,
   "metadata": {},
   "outputs": [],
   "source": [
    "# Lets create a new series\n",
    "ser1 = Series(data= [1,2,3,4,5,6] , index= [\"A\", \"B\", \"C\", \"D\", \"E\", \"F\"])"
   ]
  },
  {
   "cell_type": "code",
   "execution_count": 5,
   "metadata": {},
   "outputs": [
    {
     "data": {
      "text/plain": [
       "A    1\n",
       "B    2\n",
       "C    3\n",
       "D    4\n",
       "E    5\n",
       "F    6\n",
       "dtype: int64"
      ]
     },
     "execution_count": 5,
     "metadata": {},
     "output_type": "execute_result"
    }
   ],
   "source": [
    "# print the ser1\n",
    "ser1"
   ]
  },
  {
   "cell_type": "code",
   "execution_count": 24,
   "metadata": {},
   "outputs": [
    {
     "data": {
      "text/plain": [
       "['A', 'B', 'C', 'D', 'E', 'F', 'G', 'H']"
      ]
     },
     "execution_count": 24,
     "metadata": {},
     "output_type": "execute_result"
    }
   ],
   "source": [
    "x= list(ser1.index)\n",
    "x.append(\"G\")\n",
    "x.append(\"H\")\n",
    "x"
   ]
  },
  {
   "cell_type": "markdown",
   "metadata": {},
   "source": [
    " 2. Reindex the series and adding the letters \"G\" and \"H\""
   ]
  },
  {
   "cell_type": "code",
   "execution_count": 25,
   "metadata": {},
   "outputs": [],
   "source": [
    "# Reindex the ser1\n",
    "ser2 = ser1.reindex(index= x)"
   ]
  },
  {
   "cell_type": "code",
   "execution_count": 26,
   "metadata": {},
   "outputs": [
    {
     "data": {
      "text/plain": [
       "A    1.0\n",
       "B    2.0\n",
       "C    3.0\n",
       "D    4.0\n",
       "E    5.0\n",
       "F    6.0\n",
       "G    NaN\n",
       "H    NaN\n",
       "dtype: float64"
      ]
     },
     "execution_count": 26,
     "metadata": {},
     "output_type": "execute_result"
    }
   ],
   "source": [
    "# print the ser2\n",
    "ser2"
   ]
  },
  {
   "cell_type": "markdown",
   "metadata": {},
   "source": [
    "3. Reindex the ser2 with the letter \"Z\" and fill it with the value 100."
   ]
  },
  {
   "cell_type": "code",
   "execution_count": 9,
   "metadata": {},
   "outputs": [
    {
     "data": {
      "text/plain": [
       "A    1\n",
       "B    2\n",
       "C    3\n",
       "D    4\n",
       "E    5\n",
       "F    6\n",
       "G    0\n",
       "H    0\n",
       "Z    0\n",
       "dtype: int64"
      ]
     },
     "execution_count": 9,
     "metadata": {},
     "output_type": "execute_result"
    }
   ],
   "source": [
    "# Reindex ser2\n",
    "ser2 = ser1.reindex(index= ['A','B','C','D','E','F','G','H','Z'], fill_value=0)\n",
    "ser2"
   ]
  },
  {
   "cell_type": "markdown",
   "metadata": {},
   "source": [
    "### Reindexing rows and columns of DF"
   ]
  },
  {
   "cell_type": "code",
   "execution_count": 13,
   "metadata": {},
   "outputs": [
    {
     "data": {
      "text/html": [
       "<div>\n",
       "<style scoped>\n",
       "    .dataframe tbody tr th:only-of-type {\n",
       "        vertical-align: middle;\n",
       "    }\n",
       "\n",
       "    .dataframe tbody tr th {\n",
       "        vertical-align: top;\n",
       "    }\n",
       "\n",
       "    .dataframe thead th {\n",
       "        text-align: right;\n",
       "    }\n",
       "</style>\n",
       "<table border=\"1\" class=\"dataframe\">\n",
       "  <thead>\n",
       "    <tr style=\"text-align: right;\">\n",
       "      <th></th>\n",
       "      <th>CL1</th>\n",
       "      <th>CL2</th>\n",
       "      <th>CL3</th>\n",
       "      <th>CL4</th>\n",
       "    </tr>\n",
       "  </thead>\n",
       "  <tbody>\n",
       "    <tr>\n",
       "      <th>A</th>\n",
       "      <td>1.173396</td>\n",
       "      <td>0.562057</td>\n",
       "      <td>0.546539</td>\n",
       "      <td>-2.351782</td>\n",
       "    </tr>\n",
       "    <tr>\n",
       "      <th>D</th>\n",
       "      <td>1.849821</td>\n",
       "      <td>1.516253</td>\n",
       "      <td>0.378801</td>\n",
       "      <td>0.856284</td>\n",
       "    </tr>\n",
       "    <tr>\n",
       "      <th>E</th>\n",
       "      <td>0.204966</td>\n",
       "      <td>0.398495</td>\n",
       "      <td>0.147944</td>\n",
       "      <td>0.213025</td>\n",
       "    </tr>\n",
       "    <tr>\n",
       "      <th>F</th>\n",
       "      <td>1.117432</td>\n",
       "      <td>0.605493</td>\n",
       "      <td>1.704094</td>\n",
       "      <td>-0.462089</td>\n",
       "    </tr>\n",
       "    <tr>\n",
       "      <th>G</th>\n",
       "      <td>0.675237</td>\n",
       "      <td>-0.692506</td>\n",
       "      <td>0.946135</td>\n",
       "      <td>0.533733</td>\n",
       "    </tr>\n",
       "  </tbody>\n",
       "</table>\n",
       "</div>"
      ],
      "text/plain": [
       "        CL1       CL2       CL3       CL4\n",
       "A  1.173396  0.562057  0.546539 -2.351782\n",
       "D  1.849821  1.516253  0.378801  0.856284\n",
       "E  0.204966  0.398495  0.147944  0.213025\n",
       "F  1.117432  0.605493  1.704094 -0.462089\n",
       "G  0.675237 -0.692506  0.946135  0.533733"
      ]
     },
     "execution_count": 13,
     "metadata": {},
     "output_type": "execute_result"
    }
   ],
   "source": [
    "# Import numpy random.randn\n",
    "from numpy.random import randn\n",
    "randn_data = randn(20).reshape((5,4))\n",
    "\n",
    "#Lets make a datafram ewith some random values\n",
    "df1 = DataFrame(data = randn_data, index=['A','D','E','F','G'], columns=['CL1','CL2','CL3','CL4'])\n",
    "\n",
    "#Show\n",
    "df1"
   ]
  },
  {
   "cell_type": "markdown",
   "metadata": {},
   "source": [
    "4. Use the reindex method on df1 and add the row \"B\""
   ]
  },
  {
   "cell_type": "code",
   "execution_count": 14,
   "metadata": {},
   "outputs": [
    {
     "data": {
      "text/html": [
       "<div>\n",
       "<style scoped>\n",
       "    .dataframe tbody tr th:only-of-type {\n",
       "        vertical-align: middle;\n",
       "    }\n",
       "\n",
       "    .dataframe tbody tr th {\n",
       "        vertical-align: top;\n",
       "    }\n",
       "\n",
       "    .dataframe thead th {\n",
       "        text-align: right;\n",
       "    }\n",
       "</style>\n",
       "<table border=\"1\" class=\"dataframe\">\n",
       "  <thead>\n",
       "    <tr style=\"text-align: right;\">\n",
       "      <th></th>\n",
       "      <th>CL1</th>\n",
       "      <th>CL2</th>\n",
       "      <th>CL3</th>\n",
       "      <th>CL4</th>\n",
       "    </tr>\n",
       "  </thead>\n",
       "  <tbody>\n",
       "    <tr>\n",
       "      <th>A</th>\n",
       "      <td>1.173396</td>\n",
       "      <td>0.562057</td>\n",
       "      <td>0.546539</td>\n",
       "      <td>-2.351782</td>\n",
       "    </tr>\n",
       "    <tr>\n",
       "      <th>B</th>\n",
       "      <td>NaN</td>\n",
       "      <td>NaN</td>\n",
       "      <td>NaN</td>\n",
       "      <td>NaN</td>\n",
       "    </tr>\n",
       "    <tr>\n",
       "      <th>D</th>\n",
       "      <td>1.849821</td>\n",
       "      <td>1.516253</td>\n",
       "      <td>0.378801</td>\n",
       "      <td>0.856284</td>\n",
       "    </tr>\n",
       "    <tr>\n",
       "      <th>F</th>\n",
       "      <td>1.117432</td>\n",
       "      <td>0.605493</td>\n",
       "      <td>1.704094</td>\n",
       "      <td>-0.462089</td>\n",
       "    </tr>\n",
       "    <tr>\n",
       "      <th>G</th>\n",
       "      <td>0.675237</td>\n",
       "      <td>-0.692506</td>\n",
       "      <td>0.946135</td>\n",
       "      <td>0.533733</td>\n",
       "    </tr>\n",
       "  </tbody>\n",
       "</table>\n",
       "</div>"
      ],
      "text/plain": [
       "        CL1       CL2       CL3       CL4\n",
       "A  1.173396  0.562057  0.546539 -2.351782\n",
       "B       NaN       NaN       NaN       NaN\n",
       "D  1.849821  1.516253  0.378801  0.856284\n",
       "F  1.117432  0.605493  1.704094 -0.462089\n",
       "G  0.675237 -0.692506  0.946135  0.533733"
      ]
     },
     "execution_count": 14,
     "metadata": {},
     "output_type": "execute_result"
    }
   ],
   "source": [
    "# Add row B\n",
    "df1.reindex(index= ['A','B','D','F','G'])"
   ]
  },
  {
   "cell_type": "markdown",
   "metadata": {},
   "source": [
    "5. Use the reindex method on df1 and add a new column \"CL5\""
   ]
  },
  {
   "cell_type": "code",
   "execution_count": 15,
   "metadata": {},
   "outputs": [
    {
     "data": {
      "text/html": [
       "<div>\n",
       "<style scoped>\n",
       "    .dataframe tbody tr th:only-of-type {\n",
       "        vertical-align: middle;\n",
       "    }\n",
       "\n",
       "    .dataframe tbody tr th {\n",
       "        vertical-align: top;\n",
       "    }\n",
       "\n",
       "    .dataframe thead th {\n",
       "        text-align: right;\n",
       "    }\n",
       "</style>\n",
       "<table border=\"1\" class=\"dataframe\">\n",
       "  <thead>\n",
       "    <tr style=\"text-align: right;\">\n",
       "      <th></th>\n",
       "      <th>CL1</th>\n",
       "      <th>CL2</th>\n",
       "      <th>CL3</th>\n",
       "      <th>CL4</th>\n",
       "      <th>CL5</th>\n",
       "    </tr>\n",
       "  </thead>\n",
       "  <tbody>\n",
       "    <tr>\n",
       "      <th>A</th>\n",
       "      <td>1.173396</td>\n",
       "      <td>0.562057</td>\n",
       "      <td>0.546539</td>\n",
       "      <td>-2.351782</td>\n",
       "      <td>NaN</td>\n",
       "    </tr>\n",
       "    <tr>\n",
       "      <th>D</th>\n",
       "      <td>1.849821</td>\n",
       "      <td>1.516253</td>\n",
       "      <td>0.378801</td>\n",
       "      <td>0.856284</td>\n",
       "      <td>NaN</td>\n",
       "    </tr>\n",
       "    <tr>\n",
       "      <th>E</th>\n",
       "      <td>0.204966</td>\n",
       "      <td>0.398495</td>\n",
       "      <td>0.147944</td>\n",
       "      <td>0.213025</td>\n",
       "      <td>NaN</td>\n",
       "    </tr>\n",
       "    <tr>\n",
       "      <th>F</th>\n",
       "      <td>1.117432</td>\n",
       "      <td>0.605493</td>\n",
       "      <td>1.704094</td>\n",
       "      <td>-0.462089</td>\n",
       "      <td>NaN</td>\n",
       "    </tr>\n",
       "    <tr>\n",
       "      <th>G</th>\n",
       "      <td>0.675237</td>\n",
       "      <td>-0.692506</td>\n",
       "      <td>0.946135</td>\n",
       "      <td>0.533733</td>\n",
       "      <td>NaN</td>\n",
       "    </tr>\n",
       "  </tbody>\n",
       "</table>\n",
       "</div>"
      ],
      "text/plain": [
       "        CL1       CL2       CL3       CL4  CL5\n",
       "A  1.173396  0.562057  0.546539 -2.351782  NaN\n",
       "D  1.849821  1.516253  0.378801  0.856284  NaN\n",
       "E  0.204966  0.398495  0.147944  0.213025  NaN\n",
       "F  1.117432  0.605493  1.704094 -0.462089  NaN\n",
       "G  0.675237 -0.692506  0.946135  0.533733  NaN"
      ]
     },
     "execution_count": 15,
     "metadata": {},
     "output_type": "execute_result"
    }
   ],
   "source": [
    "# Add new column CL5\n",
    "new_columns = ['CL1','CL2','CL3','CL4','CL5']\n",
    "\n",
    "df1.reindex(columns = new_columns)"
   ]
  },
  {
   "cell_type": "markdown",
   "metadata": {},
   "source": [
    "### Rename columns\n",
    "\n",
    "5. Use the .rename() method and rename the column of df1 to ('A1','B2','C3','D4')"
   ]
  },
  {
   "cell_type": "code",
   "execution_count": 17,
   "metadata": {},
   "outputs": [
    {
     "data": {
      "text/html": [
       "<div>\n",
       "<style scoped>\n",
       "    .dataframe tbody tr th:only-of-type {\n",
       "        vertical-align: middle;\n",
       "    }\n",
       "\n",
       "    .dataframe tbody tr th {\n",
       "        vertical-align: top;\n",
       "    }\n",
       "\n",
       "    .dataframe thead th {\n",
       "        text-align: right;\n",
       "    }\n",
       "</style>\n",
       "<table border=\"1\" class=\"dataframe\">\n",
       "  <thead>\n",
       "    <tr style=\"text-align: right;\">\n",
       "      <th></th>\n",
       "      <th>A1</th>\n",
       "      <th>B2</th>\n",
       "      <th>C3</th>\n",
       "      <th>D4</th>\n",
       "    </tr>\n",
       "  </thead>\n",
       "  <tbody>\n",
       "    <tr>\n",
       "      <th>A</th>\n",
       "      <td>1.173396</td>\n",
       "      <td>0.562057</td>\n",
       "      <td>0.546539</td>\n",
       "      <td>-2.351782</td>\n",
       "    </tr>\n",
       "    <tr>\n",
       "      <th>D</th>\n",
       "      <td>1.849821</td>\n",
       "      <td>1.516253</td>\n",
       "      <td>0.378801</td>\n",
       "      <td>0.856284</td>\n",
       "    </tr>\n",
       "    <tr>\n",
       "      <th>E</th>\n",
       "      <td>0.204966</td>\n",
       "      <td>0.398495</td>\n",
       "      <td>0.147944</td>\n",
       "      <td>0.213025</td>\n",
       "    </tr>\n",
       "    <tr>\n",
       "      <th>F</th>\n",
       "      <td>1.117432</td>\n",
       "      <td>0.605493</td>\n",
       "      <td>1.704094</td>\n",
       "      <td>-0.462089</td>\n",
       "    </tr>\n",
       "    <tr>\n",
       "      <th>G</th>\n",
       "      <td>0.675237</td>\n",
       "      <td>-0.692506</td>\n",
       "      <td>0.946135</td>\n",
       "      <td>0.533733</td>\n",
       "    </tr>\n",
       "  </tbody>\n",
       "</table>\n",
       "</div>"
      ],
      "text/plain": [
       "         A1        B2        C3        D4\n",
       "A  1.173396  0.562057  0.546539 -2.351782\n",
       "D  1.849821  1.516253  0.378801  0.856284\n",
       "E  0.204966  0.398495  0.147944  0.213025\n",
       "F  1.117432  0.605493  1.704094 -0.462089\n",
       "G  0.675237 -0.692506  0.946135  0.533733"
      ]
     },
     "execution_count": 17,
     "metadata": {},
     "output_type": "execute_result"
    }
   ],
   "source": [
    "# Rename df1 columns\n",
    "df1.rename(columns= {'CL1':'A1', 'CL2':'B2', 'CL3':'C3', 'CL4':'D4'})"
   ]
  },
  {
   "cell_type": "code",
   "execution_count": 18,
   "metadata": {},
   "outputs": [
    {
     "data": {
      "text/html": [
       "<div>\n",
       "<style scoped>\n",
       "    .dataframe tbody tr th:only-of-type {\n",
       "        vertical-align: middle;\n",
       "    }\n",
       "\n",
       "    .dataframe tbody tr th {\n",
       "        vertical-align: top;\n",
       "    }\n",
       "\n",
       "    .dataframe thead th {\n",
       "        text-align: right;\n",
       "    }\n",
       "</style>\n",
       "<table border=\"1\" class=\"dataframe\">\n",
       "  <thead>\n",
       "    <tr style=\"text-align: right;\">\n",
       "      <th></th>\n",
       "      <th>CL1</th>\n",
       "      <th>CL2</th>\n",
       "      <th>CL3</th>\n",
       "      <th>CL4</th>\n",
       "    </tr>\n",
       "  </thead>\n",
       "  <tbody>\n",
       "    <tr>\n",
       "      <th>A</th>\n",
       "      <td>1.173396</td>\n",
       "      <td>0.562057</td>\n",
       "      <td>0.546539</td>\n",
       "      <td>-2.351782</td>\n",
       "    </tr>\n",
       "    <tr>\n",
       "      <th>D</th>\n",
       "      <td>1.849821</td>\n",
       "      <td>1.516253</td>\n",
       "      <td>0.378801</td>\n",
       "      <td>0.856284</td>\n",
       "    </tr>\n",
       "    <tr>\n",
       "      <th>E</th>\n",
       "      <td>0.204966</td>\n",
       "      <td>0.398495</td>\n",
       "      <td>0.147944</td>\n",
       "      <td>0.213025</td>\n",
       "    </tr>\n",
       "    <tr>\n",
       "      <th>F</th>\n",
       "      <td>1.117432</td>\n",
       "      <td>0.605493</td>\n",
       "      <td>1.704094</td>\n",
       "      <td>-0.462089</td>\n",
       "    </tr>\n",
       "    <tr>\n",
       "      <th>G</th>\n",
       "      <td>0.675237</td>\n",
       "      <td>-0.692506</td>\n",
       "      <td>0.946135</td>\n",
       "      <td>0.533733</td>\n",
       "    </tr>\n",
       "  </tbody>\n",
       "</table>\n",
       "</div>"
      ],
      "text/plain": [
       "        CL1       CL2       CL3       CL4\n",
       "A  1.173396  0.562057  0.546539 -2.351782\n",
       "D  1.849821  1.516253  0.378801  0.856284\n",
       "E  0.204966  0.398495  0.147944  0.213025\n",
       "F  1.117432  0.605493  1.704094 -0.462089\n",
       "G  0.675237 -0.692506  0.946135  0.533733"
      ]
     },
     "execution_count": 18,
     "metadata": {},
     "output_type": "execute_result"
    }
   ],
   "source": [
    "df1"
   ]
  },
  {
   "cell_type": "markdown",
   "metadata": {},
   "source": [
    "# Congratulation! Exercises completed!"
   ]
  },
  {
   "cell_type": "code",
   "execution_count": null,
   "metadata": {},
   "outputs": [],
   "source": []
  }
 ],
 "metadata": {
  "kernelspec": {
   "display_name": "Python 3",
   "language": "python",
   "name": "python3"
  },
  "language_info": {
   "codemirror_mode": {
    "name": "ipython",
    "version": 3
   },
   "file_extension": ".py",
   "mimetype": "text/x-python",
   "name": "python",
   "nbconvert_exporter": "python",
   "pygments_lexer": "ipython3",
   "version": "3.7.1"
  }
 },
 "nbformat": 4,
 "nbformat_minor": 1
}
